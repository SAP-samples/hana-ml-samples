{
 "cells": [
  {
   "cell_type": "code",
   "execution_count": 3,
   "metadata": {},
   "outputs": [
    {
     "name": "stdout",
     "output_type": "stream",
     "text": [
      "HANA ML version: 2.17.23061500\n"
     ]
    }
   ],
   "source": [
    "import pandas as pd\n",
    "import hana_ml\n",
    "from hana_ml import dataframe\n",
    "from hana_ml.dataframe import create_dataframe_from_pandas\n",
    "print(\"HANA ML version:\", hana_ml.__version__)"
   ]
  },
  {
   "cell_type": "code",
   "execution_count": 4,
   "metadata": {},
   "outputs": [
    {
     "data": {
      "text/plain": [
       "'4.00.000.00.1684836416 (fa/CE2023.4)'"
      ]
     },
     "execution_count": 4,
     "metadata": {},
     "output_type": "execute_result"
    }
   ],
   "source": [
    "\n",
    "host = ''\n",
    "port = \n",
    "user = ''\n",
    "conn= dataframe.ConnectionContext(address=host, port=port, user=user, \n",
    "                               encrypt='true' ,sslValidateCertificate='false')\n",
    "conn.hana_version()"
   ]
  },
  {
   "cell_type": "code",
   "execution_count": 9,
   "metadata": {},
   "outputs": [],
   "source": [
    "#### Load the required files"
   ]
  },
  {
   "cell_type": "code",
   "execution_count": 12,
   "metadata": {},
   "outputs": [
    {
     "name": "stderr",
     "output_type": "stream",
     "text": [
      "100%|██████████| 1/1 [00:00<00:00, 13.32it/s]\n"
     ]
    }
   ],
   "source": [
    "# retrive hana dataframes from CSV files\n",
    "data_pd = pd.read_csv('./datasets/POINTS_OF_SALES.csv', sep=';')\n",
    "# create hana dataframe from stadions pandas dataframe\n",
    "data_pd_hdf = create_dataframe_from_pandas(\n",
    "        conn,\n",
    "        data_pd,\n",
    "        schema='DEMO_USER',\n",
    "        table_name=\"POINTS_OF_SALES\",\n",
    "        force=True,\n",
    "        replace=True,\n",
    "        drop_exist_tab=True\n",
    "    )"
   ]
  },
  {
   "cell_type": "code",
   "execution_count": 14,
   "metadata": {},
   "outputs": [
    {
     "name": "stderr",
     "output_type": "stream",
     "text": [
      "100%|██████████| 3/3 [00:09<00:00,  3.07s/it]\n"
     ]
    }
   ],
   "source": [
    "# retrive hana dataframes from CSV files\n",
    "data_pd = pd.read_csv('./datasets/PRICE_HISTORY_V.csv', sep=',')\n",
    "# create hana dataframe from stadions pandas dataframe\n",
    "data_pd_hdf = create_dataframe_from_pandas(\n",
    "        conn,\n",
    "        data_pd,\n",
    "        schema='DEMO_USER',\n",
    "        table_name=\"PRICE_HISTORY_V\",\n",
    "        force=True,\n",
    "        replace=True,\n",
    "        drop_exist_tab=True\n",
    "    )"
   ]
  },
  {
   "cell_type": "code",
   "execution_count": 7,
   "metadata": {},
   "outputs": [
    {
     "name": "stderr",
     "output_type": "stream",
     "text": [
      "100%|██████████| 8/8 [00:28<00:00,  3.50s/it]\n"
     ]
    }
   ],
   "source": [
    "# retrive hana dataframes from CSV files\n",
    "train_rnk_pd = pd.read_csv('./datasets/TRAIN_RNK_2209.csv', sep=',')\n",
    "# create hana dataframe from stadions pandas dataframe\n",
    "train_rnk_hdf = create_dataframe_from_pandas(\n",
    "        conn,\n",
    "        train_rnk_pd,\n",
    "        schema='DEMO_USER',\n",
    "        table_name=\"TRAIN_RNK_2209\",\n",
    "        force=True,\n",
    "        replace=True,\n",
    "        drop_exist_tab=True\n",
    "    )"
   ]
  },
  {
   "cell_type": "code",
   "execution_count": 8,
   "metadata": {},
   "outputs": [
    {
     "name": "stderr",
     "output_type": "stream",
     "text": [
      "100%|██████████| 1/1 [00:01<00:00,  1.30s/it]\n"
     ]
    }
   ],
   "source": [
    "# retrive hana dataframes from CSV files\n",
    "test_rnk_pd = pd.read_csv('./datasets/TEST_RNK_2209.csv', sep=',')\n",
    "# create hana dataframe from stadions pandas dataframe\n",
    "test_rnk_hdf = create_dataframe_from_pandas(\n",
    "        conn,\n",
    "        test_rnk_pd,\n",
    "        schema='TECHED22',\n",
    "        table_name=\"TEST_RNK_2209\",\n",
    "        force=True,\n",
    "        replace=True,\n",
    "        drop_exist_tab=True\n",
    "    )"
   ]
  },
  {
   "cell_type": "code",
   "execution_count": 15,
   "metadata": {},
   "outputs": [],
   "source": [
    "##DROP TABLE \"TECHED22\".\"PAL_ADDITIVE_MODEL_ANALYSIS_HOLIDAY\";\n",
    "###CREATE COLUMN TABLE \"TECHED22\".\"PAL_ADDITIVE_MODEL_ANALYSIS_HOLIDAY\" (\"GROUP_IDXXX\" INTEGER, \"ts\" TIMESTAMP, \"NAME\" VARCHAR(255), \"LOWER_WINDOW\" INTEGER, \"UPPER_WINDOW\" INTEGER);\n",
    "# retrive hana dataframes from CSV files\n",
    "data_pd = pd.read_csv('./datasets/PAL_ADDITIVE_MODEL_ANALYSIS_HOLIDAY.csv', sep=',')\n",
    "# create hana dataframe from stadions pandas dataframe\n",
    "data_hdf = create_dataframe_from_pandas(\n",
    "        conn,\n",
    "        data_pd,\n",
    "        schema='DEMO_USER',\n",
    "        table_name=\"PAL_ADDITIVE_MODEL_ANALYSIS_HOLIDAY\",\n",
    "        force=True,\n",
    "        replace=True,\n",
    "        drop_exist_tab=True\n",
    "    )"
   ]
  }
 ],
 "metadata": {
  "kernelspec": {
   "display_name": "base",
   "language": "python",
   "name": "python3"
  },
  "language_info": {
   "codemirror_mode": {
    "name": "ipython",
    "version": 3
   },
   "file_extension": ".py",
   "mimetype": "text/x-python",
   "name": "python",
   "nbconvert_exporter": "python",
   "pygments_lexer": "ipython3",
   "version": "3.9.13"
  },
  "orig_nbformat": 4
 },
 "nbformat": 4,
 "nbformat_minor": 2
}
