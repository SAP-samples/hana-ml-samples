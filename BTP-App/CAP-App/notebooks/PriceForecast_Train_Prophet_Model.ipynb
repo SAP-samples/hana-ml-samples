{
 "cells": [
  {
   "cell_type": "code",
   "execution_count": null,
   "id": "220aa727",
   "metadata": {},
   "outputs": [],
   "source": [
    "%pip install hana_ml/hana_ml-2.17.23061500-py3-none-any.whl\n",
    "%pip install shapely\n",
    "%pip install jinja2\n",
    "%pip install requests\n",
    "%pip install cryptography\n"
   ]
  },
  {
   "cell_type": "code",
   "execution_count": 2,
   "id": "1b915130",
   "metadata": {},
   "outputs": [
    {
     "name": "stdout",
     "output_type": "stream",
     "text": [
      "2.17.23061500\n"
     ]
    }
   ],
   "source": [
    "import hana_ml\n",
    "print(hana_ml.__version__)"
   ]
  },
  {
   "cell_type": "code",
   "execution_count": 3,
   "id": "5ff2d2e9",
   "metadata": {},
   "outputs": [
    {
     "name": "stdout",
     "output_type": "stream",
     "text": [
      "2.17.23061500\n"
     ]
    }
   ],
   "source": [
    "import hana_ml\n",
    "from hana_ml import dataframe\n",
    "from hana_ml.dataframe import create_dataframe_from_pandas, create_dataframe_from_shapefile\n",
    "from hana_ml.algorithms.pal.tsa.additive_model_forecast import AdditiveModelForecast\n",
    "from hana_ml.algorithms.pal import metrics\n",
    "print(hana_ml.__version__)"
   ]
  },
  {
   "cell_type": "code",
   "execution_count": 4,
   "id": "738bf298-4d07-4308-beb4-0cee2e251e3c",
   "metadata": {},
   "outputs": [],
   "source": [
    "host = '4b9b5603-72ee-4b9a-856e-0ccefffb3148.hana.prod-eu10.hanacloud.ondemand.com'\n",
    "port = 443\n",
    "user = 'DEMO_USER'"
   ]
  },
  {
   "cell_type": "code",
   "execution_count": 5,
   "id": "a652483a-509d-43f7-94b8-b3780304a872",
   "metadata": {},
   "outputs": [
    {
     "name": "stdout",
     "output_type": "stream",
     "text": [
      "4.00.000.00.1684836416 (fa/CE2023.4)\n"
     ]
    }
   ],
   "source": [
    "conn= dataframe.ConnectionContext(address=host, port=port, user=user, \n",
    "                               encrypt='true' ,sslValidateCertificate='false')\n",
    "print(conn.hana_version())\n"
   ]
  },
  {
   "cell_type": "code",
   "execution_count": 6,
   "id": "7e22b34b-49f4-454f-9dab-ee6349989608",
   "metadata": {},
   "outputs": [
    {
     "name": "stdout",
     "output_type": "stream",
     "text": [
      "17909\n",
      "17908\n",
      "354578\n"
     ]
    }
   ],
   "source": [
    "test_gt_rnk_hdf = conn.table(\"TEST_GT_RNK_2209\", schema=\"TECHED22\")\n",
    "print(test_gt_rnk_hdf.count())\n",
    "test_rnk_hdf = conn.table(\"TEST_RNK_2209\", schema=\"TECHED22\")\n",
    "print(test_rnk_hdf.count())\n",
    "train_rnk_hdf = conn.table(\"TRAIN_RNK_2209\", schema=\"TECHED22\")\n",
    "print(train_rnk_hdf.count())"
   ]
  },
  {
   "cell_type": "code",
   "execution_count": 7,
   "id": "8bfe0bfb-74e1-49fe-a7b4-31c48edd9301",
   "metadata": {},
   "outputs": [],
   "source": [
    "from hana_ml.algorithms.pal.tsa.additive_model_forecast import AdditiveModelForecast"
   ]
  },
  {
   "cell_type": "code",
   "execution_count": 8,
   "id": "21e6b61e-43ca-4e54-88ce-79e723133112",
   "metadata": {},
   "outputs": [],
   "source": [
    "conn.sql_tracer.enable_sql_trace(True)\n",
    "conn.sql_tracer.enable_trace_history(True)"
   ]
  },
  {
   "cell_type": "code",
   "execution_count": 9,
   "id": "0fbe0268-bd0e-4ecc-afa3-3496e86ee9e4",
   "metadata": {},
   "outputs": [],
   "source": [
    "# create hoildays table, required but kept empty for now\n",
    "holiday_data_hdf = conn.sql('select * from \"TECHED22\".\"PAL_ADDITIVE_MODEL_ANALYSIS_HOLIDAY\"')"
   ]
  },
  {
   "cell_type": "code",
   "execution_count": 10,
   "id": "290e2322-8023-4037-b77f-030192e28a0d",
   "metadata": {},
   "outputs": [],
   "source": [
    "amf = AdditiveModelForecast(massive=True,growth='linear',\n",
    "                                changepoint_prior_scale=0.06,\n",
    "                                weekly_seasonality='True',\n",
    "                                daily_seasonality='True'\n",
    "                                )"
   ]
  },
  {
   "cell_type": "code",
   "execution_count": 11,
   "id": "86144ece-3b4a-4211-8ff9-b363b77a06c1",
   "metadata": {},
   "outputs": [
    {
     "name": "stderr",
     "output_type": "stream",
     "text": [
      "INFO:hana_ml.ml_base:Executing SQL: DO\n",
      "BEGIN\n",
      "DECLARE group_id NVARCHAR(5000) ARRAY;\n",
      "DECLARE param_name VARCHAR(5000) ARRAY;\n",
      "DECLARE int_value INTEGER ARRAY;\n",
      "DECLARE double_value DOUBLE ARRAY;\n",
      "DECLARE string_value VARCHAR(5000) ARRAY;\n",
      "group_id[1] := N'PAL_MASSIVE_PROCESSING_SPECIAL_GROUP_ID';\n",
      "param_name[1] := N'GROWTH';\n",
      "int_value[1] := NULL;\n",
      "double_value[1] := NULL;\n",
      "string_value[1] := N'linear';\n",
      "group_id[2] := N'PAL_MASSIVE_PROCESSING_SPECIAL_GROUP_ID';\n",
      "param_name[2] := N'WEEKLY_SEASONALITY';\n",
      "int_value[2] := 1;\n",
      "double_value[2] := NULL;\n",
      "string_value[2] := NULL;\n",
      "group_id[3] := N'PAL_MASSIVE_PROCESSING_SPECIAL_GROUP_ID';\n",
      "param_name[3] := N'DAILY_SEASONALITY';\n",
      "int_value[3] := 1;\n",
      "double_value[3] := NULL;\n",
      "string_value[3] := NULL;\n",
      "group_id[4] := N'PAL_MASSIVE_PROCESSING_SPECIAL_GROUP_ID';\n",
      "param_name[4] := N'CHANGEPOINT_PRIOR_SCALE';\n",
      "int_value[4] := NULL;\n",
      "double_value[4] := 0.06;\n",
      "string_value[4] := NULL;\n",
      "params = UNNEST(:group_id, :param_name, :int_value, :double_value, :string_value);\n",
      "in_0 = SELECT \"STATION_UUID\", \"PRICE_AT_TIMESTAMP\", \"E5\" FROM (SELECT * FROM \"TECHED22\".\"TRAIN_RNK_2209\") AS \"DT_3\";\n",
      "in_1 = select * from \"TECHED22\".\"PAL_ADDITIVE_MODEL_ANALYSIS_HOLIDAY\";\n",
      "CALL _SYS_AFL.PAL_MASSIVE_ADDITIVE_MODEL_ANALYSIS(:in_0, :in_1, :params, out_0, out_1);\n",
      "CREATE LOCAL TEMPORARY COLUMN TABLE \"#PAL_MASSIVE_ADDITIVE_MODEL_FORECAST_MODEL_TBL_0_83FED50E_0B9E_11EE_A990_1ACCC35366B4\" AS (SELECT * FROM :out_0);\n",
      "CREATE LOCAL TEMPORARY COLUMN TABLE \"#PAL_MASSIVE_ADDITIVE_MODEL_FORECAST_ERROR_TBL_0_83FED50E_0B9E_11EE_A990_1ACCC35366B4\" AS (SELECT * FROM :out_1);\n",
      "END\n",
      "\n"
     ]
    },
    {
     "data": {
      "text/plain": [
       "<hana_ml.algorithms.pal.tsa.additive_model_forecast.AdditiveModelForecast at 0x7fdf74c20550>"
      ]
     },
     "execution_count": 11,
     "metadata": {},
     "output_type": "execute_result"
    }
   ],
   "source": [
    "amf.fit(data=train_rnk_hdf, key=\"PRICE_AT_TIMESTAMP\", group_key=\"STATION_UUID\", holiday=holiday_data_hdf)"
   ]
  },
  {
   "cell_type": "code",
   "execution_count": 12,
   "id": "35059b16-f833-4617-9ced-6f48484f75c9",
   "metadata": {},
   "outputs": [
    {
     "name": "stdout",
     "output_type": "stream",
     "text": [
      "DO\n",
      "BEGIN\n",
      "DECLARE group_id NVARCHAR(5000) ARRAY;\n",
      "DECLARE param_name VARCHAR(5000) ARRAY;\n",
      "DECLARE int_value INTEGER ARRAY;\n",
      "DECLARE double_value DOUBLE ARRAY;\n",
      "DECLARE string_value VARCHAR(5000) ARRAY;\n",
      "group_id[1] := N'PAL_MASSIVE_PROCESSING_SPECIAL_GROUP_ID';\n",
      "param_name[1] := N'GROWTH';\n",
      "int_value[1] := NULL;\n",
      "double_value[1] := NULL;\n",
      "string_value[1] := N'linear';\n",
      "group_id[2] := N'PAL_MASSIVE_PROCESSING_SPECIAL_GROUP_ID';\n",
      "param_name[2] := N'WEEKLY_SEASONALITY';\n",
      "int_value[2] := 1;\n",
      "double_value[2] := NULL;\n",
      "string_value[2] := NULL;\n",
      "group_id[3] := N'PAL_MASSIVE_PROCESSING_SPECIAL_GROUP_ID';\n",
      "param_name[3] := N'DAILY_SEASONALITY';\n",
      "int_value[3] := 1;\n",
      "double_value[3] := NULL;\n",
      "string_value[3] := NULL;\n",
      "group_id[4] := N'PAL_MASSIVE_PROCESSING_SPECIAL_GROUP_ID';\n",
      "param_name[4] := N'CHANGEPOINT_PRIOR_SCALE';\n",
      "int_value[4] := NULL;\n",
      "double_value[4] := 0.06;\n",
      "string_value[4] := NULL;\n",
      "params = UNNEST(:group_id, :param_name, :int_value, :double_value, :string_value);\n",
      "in_0 = SELECT \"STATION_UUID\", \"PRICE_AT_TIMESTAMP\", \"E5\" FROM (SELECT * FROM \"TECHED22\".\"TRAIN_RNK_2209\") AS \"DT_3\";\n",
      "in_1 = select * from \"TECHED22\".\"PAL_ADDITIVE_MODEL_ANALYSIS_HOLIDAY\";\n",
      "CALL _SYS_AFL.PAL_MASSIVE_ADDITIVE_MODEL_ANALYSIS(:in_0, :in_1, :params, out_0, out_1);\n",
      "CREATE LOCAL TEMPORARY COLUMN TABLE \"#PAL_MASSIVE_ADDITIVE_MODEL_FORECAST_MODEL_TBL_0_83FED50E_0B9E_11EE_A990_1ACCC35366B4\" AS (SELECT * FROM :out_0);\n",
      "CREATE LOCAL TEMPORARY COLUMN TABLE \"#PAL_MASSIVE_ADDITIVE_MODEL_FORECAST_ERROR_TBL_0_83FED50E_0B9E_11EE_A990_1ACCC35366B4\" AS (SELECT * FROM :out_1);\n",
      "END\n",
      "\n"
     ]
    }
   ],
   "source": [
    "print(conn.last_execute_statement)"
   ]
  },
  {
   "cell_type": "code",
   "execution_count": 13,
   "id": "719700e3-65c4-4db1-8824-46df13466e07",
   "metadata": {},
   "outputs": [
    {
     "data": {
      "text/html": [
       "<div>\n",
       "<style scoped>\n",
       "    .dataframe tbody tr th:only-of-type {\n",
       "        vertical-align: middle;\n",
       "    }\n",
       "\n",
       "    .dataframe tbody tr th {\n",
       "        vertical-align: top;\n",
       "    }\n",
       "\n",
       "    .dataframe thead th {\n",
       "        text-align: right;\n",
       "    }\n",
       "</style>\n",
       "<table border=\"1\" class=\"dataframe\">\n",
       "  <thead>\n",
       "    <tr style=\"text-align: right;\">\n",
       "      <th></th>\n",
       "      <th>GROUP_ID</th>\n",
       "      <th>ROW_INDEX</th>\n",
       "      <th>MODEL_CONTENT</th>\n",
       "    </tr>\n",
       "  </thead>\n",
       "  <tbody>\n",
       "    <tr>\n",
       "      <th>0</th>\n",
       "      <td>11751341-2a8d-4408-af81-a4a01e054314</td>\n",
       "      <td>0</td>\n",
       "      <td>{\"GROWTH\":\"linear\",\"FLOOR\":0.0,\"SEASONALITY_MO...</td>\n",
       "    </tr>\n",
       "    <tr>\n",
       "      <th>1</th>\n",
       "      <td>0e5f8257-c5e6-44f2-8d7f-4ba90f7b9646</td>\n",
       "      <td>0</td>\n",
       "      <td>{\"GROWTH\":\"linear\",\"FLOOR\":0.0,\"SEASONALITY_MO...</td>\n",
       "    </tr>\n",
       "    <tr>\n",
       "      <th>2</th>\n",
       "      <td>0e64e4c6-3d58-44d4-bbe5-377a5a0db2f2</td>\n",
       "      <td>0</td>\n",
       "      <td>{\"GROWTH\":\"linear\",\"FLOOR\":0.0,\"SEASONALITY_MO...</td>\n",
       "    </tr>\n",
       "    <tr>\n",
       "      <th>3</th>\n",
       "      <td>018e8f3e-ae2f-40bc-89c1-bc3fe20eb462</td>\n",
       "      <td>0</td>\n",
       "      <td>{\"GROWTH\":\"linear\",\"FLOOR\":0.0,\"SEASONALITY_MO...</td>\n",
       "    </tr>\n",
       "    <tr>\n",
       "      <th>4</th>\n",
       "      <td>10d13975-7819-4c49-86be-3465bfdc59f9</td>\n",
       "      <td>0</td>\n",
       "      <td>{\"GROWTH\":\"linear\",\"FLOOR\":0.0,\"SEASONALITY_MO...</td>\n",
       "    </tr>\n",
       "  </tbody>\n",
       "</table>\n",
       "</div>"
      ],
      "text/plain": [
       "                               GROUP_ID  ROW_INDEX  \\\n",
       "0  11751341-2a8d-4408-af81-a4a01e054314          0   \n",
       "1  0e5f8257-c5e6-44f2-8d7f-4ba90f7b9646          0   \n",
       "2  0e64e4c6-3d58-44d4-bbe5-377a5a0db2f2          0   \n",
       "3  018e8f3e-ae2f-40bc-89c1-bc3fe20eb462          0   \n",
       "4  10d13975-7819-4c49-86be-3465bfdc59f9          0   \n",
       "\n",
       "                                       MODEL_CONTENT  \n",
       "0  {\"GROWTH\":\"linear\",\"FLOOR\":0.0,\"SEASONALITY_MO...  \n",
       "1  {\"GROWTH\":\"linear\",\"FLOOR\":0.0,\"SEASONALITY_MO...  \n",
       "2  {\"GROWTH\":\"linear\",\"FLOOR\":0.0,\"SEASONALITY_MO...  \n",
       "3  {\"GROWTH\":\"linear\",\"FLOOR\":0.0,\"SEASONALITY_MO...  \n",
       "4  {\"GROWTH\":\"linear\",\"FLOOR\":0.0,\"SEASONALITY_MO...  "
      ]
     },
     "execution_count": 13,
     "metadata": {},
     "output_type": "execute_result"
    }
   ],
   "source": [
    "amf.model_.head(5).collect()"
   ]
  },
  {
   "cell_type": "code",
   "execution_count": 14,
   "id": "98f5d5b7-10c6-465c-bf84-7b62bd703f5d",
   "metadata": {},
   "outputs": [
    {
     "name": "stderr",
     "output_type": "stream",
     "text": [
      "INFO:hana_ml.ml_base:Executing SQL: DO (IN in_1 TABLE (\"GROUP_ID\" NVARCHAR(100), \"ROW_INDEX\" INT, \"MODEL_CONTENT\" NCLOB) => \"#PAL_MASSIVE_ADDITIVE_MODEL_FORECAST_MODEL_TBL_0_83FED50E_0B9E_11EE_A990_1ACCC35366B4\")\n",
      "BEGIN\n",
      "DECLARE group_id NVARCHAR(5000) ARRAY;\n",
      "DECLARE param_name VARCHAR(5000) ARRAY;\n",
      "DECLARE int_value INTEGER ARRAY;\n",
      "DECLARE double_value DOUBLE ARRAY;\n",
      "DECLARE string_value VARCHAR(5000) ARRAY;\n",
      "group_id[1] := N'1';\n",
      "param_name[1] := N'PLACE_HOLDER';\n",
      "int_value[1] := NULL;\n",
      "double_value[1] := NULL;\n",
      "string_value[1] := N'place_holder';\n",
      "params = UNNEST(:group_id, :param_name, :int_value, :double_value, :string_value);\n",
      "in_0 = SELECT \"STATION_UUID\", \"PRICE_AT_TIMESTAMP\", \"E5\" FROM (SELECT * FROM \"TECHED22\".\"TEST_RNK_2209\") AS \"DT_2\";\n",
      "CALL _SYS_AFL.PAL_MASSIVE_ADDITIVE_MODEL_PREDICT(:in_0, :in_1, :params, out_0, out_1, out_2);\n",
      "CREATE LOCAL TEMPORARY COLUMN TABLE \"#PAL_MASSIVE_AMF_PREDICT_RESULT_TBL_0_A698488E_0B9E_11EE_A990_1ACCC35366B4\" AS (SELECT * FROM :out_0);\n",
      "CREATE LOCAL TEMPORARY COLUMN TABLE \"#PAL_MASSIVE_AMF_PREDICT_DECOMPOSITION_TBL_0_A698488E_0B9E_11EE_A990_1ACCC35366B4\" AS (SELECT * FROM :out_1);\n",
      "CREATE LOCAL TEMPORARY COLUMN TABLE \"#PAL_MASSIVE_AMF_PREDICT_ERROR_TBL_0_A698488E_0B9E_11EE_A990_1ACCC35366B4\" AS (SELECT * FROM :out_2);\n",
      "END\n",
      "\n"
     ]
    }
   ],
   "source": [
    "result = amf.predict(data=test_rnk_hdf, key=\"PRICE_AT_TIMESTAMP\", group_key=\"STATION_UUID\")"
   ]
  },
  {
   "cell_type": "code",
   "execution_count": 15,
   "id": "84a7da03-0f52-47cc-a687-60344b901059",
   "metadata": {},
   "outputs": [
    {
     "data": {
      "text/html": [
       "<div>\n",
       "<style scoped>\n",
       "    .dataframe tbody tr th:only-of-type {\n",
       "        vertical-align: middle;\n",
       "    }\n",
       "\n",
       "    .dataframe tbody tr th {\n",
       "        vertical-align: top;\n",
       "    }\n",
       "\n",
       "    .dataframe thead th {\n",
       "        text-align: right;\n",
       "    }\n",
       "</style>\n",
       "<table border=\"1\" class=\"dataframe\">\n",
       "  <thead>\n",
       "    <tr style=\"text-align: right;\">\n",
       "      <th></th>\n",
       "      <th>GROUP_ID</th>\n",
       "      <th>PRICE_AT_TIMESTAMP</th>\n",
       "      <th>YHAT</th>\n",
       "      <th>YHAT_LOWER</th>\n",
       "      <th>YHAT_UPPER</th>\n",
       "    </tr>\n",
       "  </thead>\n",
       "  <tbody>\n",
       "    <tr>\n",
       "      <th>0</th>\n",
       "      <td>11751341-2a8d-4408-af81-a4a01e054314</td>\n",
       "      <td>2022-06-14 06:12:08</td>\n",
       "      <td>2.099254</td>\n",
       "      <td>2.050689</td>\n",
       "      <td>2.145868</td>\n",
       "    </tr>\n",
       "    <tr>\n",
       "      <th>1</th>\n",
       "      <td>11751341-2a8d-4408-af81-a4a01e054314</td>\n",
       "      <td>2022-06-14 10:31:10</td>\n",
       "      <td>2.038171</td>\n",
       "      <td>1.986486</td>\n",
       "      <td>2.083606</td>\n",
       "    </tr>\n",
       "    <tr>\n",
       "      <th>2</th>\n",
       "      <td>11751341-2a8d-4408-af81-a4a01e054314</td>\n",
       "      <td>2022-06-14 11:44:10</td>\n",
       "      <td>2.027534</td>\n",
       "      <td>1.977741</td>\n",
       "      <td>2.074961</td>\n",
       "    </tr>\n",
       "    <tr>\n",
       "      <th>3</th>\n",
       "      <td>11751341-2a8d-4408-af81-a4a01e054314</td>\n",
       "      <td>2022-06-14 12:35:09</td>\n",
       "      <td>2.022823</td>\n",
       "      <td>1.970712</td>\n",
       "      <td>2.070847</td>\n",
       "    </tr>\n",
       "    <tr>\n",
       "      <th>4</th>\n",
       "      <td>11751341-2a8d-4408-af81-a4a01e054314</td>\n",
       "      <td>2022-06-14 14:09:09</td>\n",
       "      <td>2.018049</td>\n",
       "      <td>1.968824</td>\n",
       "      <td>2.066147</td>\n",
       "    </tr>\n",
       "    <tr>\n",
       "      <th>5</th>\n",
       "      <td>11751341-2a8d-4408-af81-a4a01e054314</td>\n",
       "      <td>2022-06-15 06:16:09</td>\n",
       "      <td>2.090663</td>\n",
       "      <td>2.040240</td>\n",
       "      <td>2.138683</td>\n",
       "    </tr>\n",
       "    <tr>\n",
       "      <th>6</th>\n",
       "      <td>11751341-2a8d-4408-af81-a4a01e054314</td>\n",
       "      <td>2022-06-15 09:46:15</td>\n",
       "      <td>2.037930</td>\n",
       "      <td>1.989424</td>\n",
       "      <td>2.085616</td>\n",
       "    </tr>\n",
       "    <tr>\n",
       "      <th>7</th>\n",
       "      <td>11751341-2a8d-4408-af81-a4a01e054314</td>\n",
       "      <td>2022-06-15 10:34:13</td>\n",
       "      <td>2.029595</td>\n",
       "      <td>1.982141</td>\n",
       "      <td>2.074509</td>\n",
       "    </tr>\n",
       "    <tr>\n",
       "      <th>8</th>\n",
       "      <td>11751341-2a8d-4408-af81-a4a01e054314</td>\n",
       "      <td>2022-06-15 14:09:11</td>\n",
       "      <td>2.009389</td>\n",
       "      <td>1.961124</td>\n",
       "      <td>2.055960</td>\n",
       "    </tr>\n",
       "    <tr>\n",
       "      <th>9</th>\n",
       "      <td>11751341-2a8d-4408-af81-a4a01e054314</td>\n",
       "      <td>2022-06-15 15:49:09</td>\n",
       "      <td>1.999395</td>\n",
       "      <td>1.951267</td>\n",
       "      <td>2.047700</td>\n",
       "    </tr>\n",
       "  </tbody>\n",
       "</table>\n",
       "</div>"
      ],
      "text/plain": [
       "                               GROUP_ID  PRICE_AT_TIMESTAMP      YHAT  \\\n",
       "0  11751341-2a8d-4408-af81-a4a01e054314 2022-06-14 06:12:08  2.099254   \n",
       "1  11751341-2a8d-4408-af81-a4a01e054314 2022-06-14 10:31:10  2.038171   \n",
       "2  11751341-2a8d-4408-af81-a4a01e054314 2022-06-14 11:44:10  2.027534   \n",
       "3  11751341-2a8d-4408-af81-a4a01e054314 2022-06-14 12:35:09  2.022823   \n",
       "4  11751341-2a8d-4408-af81-a4a01e054314 2022-06-14 14:09:09  2.018049   \n",
       "5  11751341-2a8d-4408-af81-a4a01e054314 2022-06-15 06:16:09  2.090663   \n",
       "6  11751341-2a8d-4408-af81-a4a01e054314 2022-06-15 09:46:15  2.037930   \n",
       "7  11751341-2a8d-4408-af81-a4a01e054314 2022-06-15 10:34:13  2.029595   \n",
       "8  11751341-2a8d-4408-af81-a4a01e054314 2022-06-15 14:09:11  2.009389   \n",
       "9  11751341-2a8d-4408-af81-a4a01e054314 2022-06-15 15:49:09  1.999395   \n",
       "\n",
       "   YHAT_LOWER  YHAT_UPPER  \n",
       "0    2.050689    2.145868  \n",
       "1    1.986486    2.083606  \n",
       "2    1.977741    2.074961  \n",
       "3    1.970712    2.070847  \n",
       "4    1.968824    2.066147  \n",
       "5    2.040240    2.138683  \n",
       "6    1.989424    2.085616  \n",
       "7    1.982141    2.074509  \n",
       "8    1.961124    2.055960  \n",
       "9    1.951267    2.047700  "
      ]
     },
     "execution_count": 15,
     "metadata": {},
     "output_type": "execute_result"
    }
   ],
   "source": [
    "# look at predictions for one POS\n",
    "# predict returns an array of three dataframes. \n",
    "\n",
    "result[0].head(10).collect()"
   ]
  },
  {
   "cell_type": "markdown",
   "id": "ee002b34-f034-44df-a6ef-e0cdfc77ebd7",
   "metadata": {},
   "source": [
    "### Generate HANA artifacts for CAP project"
   ]
  },
  {
   "cell_type": "code",
   "execution_count": 16,
   "id": "9992a1a2-f80d-427c-80d6-228a0491dec1",
   "metadata": {},
   "outputs": [],
   "source": [
    "from hana_ml.artifacts.generators import hana\n",
    "from hana_ml.artifacts.generators.hana import HANAGeneratorForCAP"
   ]
  },
  {
   "cell_type": "code",
   "execution_count": 17,
   "id": "5e1fe745-8caa-4648-8f15-737a3833be2c",
   "metadata": {},
   "outputs": [],
   "source": [
    "hanagen = HANAGeneratorForCAP(project_name=\"PAL_PROPHET_FORECAST_4CAP\",\n",
    "                              output_dir=\".\",\n",
    "                              namespace=\"hana.ml\")\n",
    "hanagen.generate_artifacts(amf, model_position=True, cds_gen=False,tudf=True)"
   ]
  }
 ],
 "metadata": {
  "kernelspec": {
   "display_name": "Python 3",
   "language": "python",
   "name": "python3"
  },
  "language_info": {
   "codemirror_mode": {
    "name": "ipython",
    "version": 3
   },
   "file_extension": ".py",
   "mimetype": "text/x-python",
   "name": "python",
   "nbconvert_exporter": "python",
   "pygments_lexer": "ipython3",
   "version": "3.9.2"
  },
  "vscode": {
   "interpreter": {
    "hash": "31f2aee4e71d21fbe5cf8b01ff0e069b9275f58929596ceb00d14d90e3e16cd6"
   }
  }
 },
 "nbformat": 4,
 "nbformat_minor": 5
}
