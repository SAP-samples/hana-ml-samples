{
 "cells": [
  {
   "attachments": {},
   "cell_type": "markdown",
   "id": "be546f1d",
   "metadata": {},
   "source": [
    "### Problem statement\n",
    "Create a machine learning model to forecast the fuel prices for the service stations in the Rhein-Neckar district based on \n",
    "the tanker König dataset.\n",
    "#### Dataset\n",
    "The dataset is published on the public website “Tankerkönig“ (http://www.tankerkoenig.de/). This dataset contains the gas prices of all gas stations in Germany from 2014 until today as csv files. A record contains the station id, the datetime, prices for diesel, e5 and e10 and a change indicator. In a separate csv the data of the service stations including its geolocation is provided. \n",
    "\n",
    "We use the stations and prices data within this website only for blog posting and demonstration\n",
    "purpose. For non-commercial use the data is availble with the following license agreement (https://creativecommons.org/licenses/by-nc-sa/4.0/)"
   ]
  },
  {
   "cell_type": "code",
   "execution_count": null,
   "id": "220aa727",
   "metadata": {},
   "outputs": [],
   "source": [
    "#%pip install hana_ml\n",
    "#%pip install shapely"
   ]
  },
  {
   "cell_type": "code",
   "execution_count": null,
   "id": "1b915130",
   "metadata": {},
   "outputs": [],
   "source": [
    "import hana_ml\n",
    "print(hana_ml.__version__)"
   ]
  },
  {
   "cell_type": "code",
   "execution_count": null,
   "id": "5ff2d2e9",
   "metadata": {},
   "outputs": [],
   "source": [
    "import hana_ml\n",
    "from hana_ml import dataframe\n",
    "from hana_ml.dataframe import create_dataframe_from_pandas, create_dataframe_from_shapefile\n",
    "from hana_ml.algorithms.pal.tsa.additive_model_forecast import AdditiveModelForecast\n",
    "from hana_ml.algorithms.pal import metrics\n",
    "print(hana_ml.__version__)"
   ]
  },
  {
   "cell_type": "code",
   "execution_count": null,
   "id": "738bf298-4d07-4308-beb4-0cee2e251e3c",
   "metadata": {},
   "outputs": [],
   "source": [
    "host = ''\n",
    "port = 443\n",
    "user = ''\n",
    "conn= dataframe.ConnectionContext(address=host, port=port, user=user, \n",
    "                               encrypt='true' ,sslValidateCertificate='false')\n",
    "print(conn.hana_version())\n"
   ]
  },
  {
   "cell_type": "code",
   "execution_count": null,
   "id": "7e22b34b-49f4-454f-9dab-ee6349989608",
   "metadata": {},
   "outputs": [],
   "source": [
    "test_gt_rnk_hdf = conn.table(\"TEST_GT_RNK_2209\", schema=\"TECHED22\")\n",
    "print(test_gt_rnk_hdf.count())\n",
    "test_rnk_hdf = conn.table(\"TEST_RNK_2209\", schema=\"TECHED22\")\n",
    "print(test_rnk_hdf.count())\n",
    "train_rnk_hdf = conn.table(\"TRAIN_RNK_2209\", schema=\"TECHED22\")\n",
    "print(train_rnk_hdf.count())"
   ]
  },
  {
   "cell_type": "code",
   "execution_count": null,
   "id": "8bfe0bfb-74e1-49fe-a7b4-31c48edd9301",
   "metadata": {},
   "outputs": [],
   "source": [
    "from hana_ml.algorithms.pal.tsa.additive_model_forecast import AdditiveModelForecast"
   ]
  },
  {
   "cell_type": "code",
   "execution_count": null,
   "id": "21e6b61e-43ca-4e54-88ce-79e723133112",
   "metadata": {},
   "outputs": [],
   "source": [
    "conn.sql_tracer.enable_sql_trace(True)\n",
    "conn.sql_tracer.enable_trace_history(True)"
   ]
  },
  {
   "cell_type": "code",
   "execution_count": null,
   "id": "0fbe0268-bd0e-4ecc-afa3-3496e86ee9e4",
   "metadata": {},
   "outputs": [],
   "source": [
    "# create hoildays table, required but kept empty for now\n",
    "holiday_data_hdf = conn.sql('select * from \"TECHED22\".\"PAL_ADDITIVE_MODEL_ANALYSIS_HOLIDAY\"')"
   ]
  },
  {
   "cell_type": "code",
   "execution_count": null,
   "id": "290e2322-8023-4037-b77f-030192e28a0d",
   "metadata": {},
   "outputs": [],
   "source": [
    "amf = AdditiveModelForecast(massive=True,growth='linear',\n",
    "                                changepoint_prior_scale=0.06,\n",
    "                                weekly_seasonality='True',\n",
    "                                daily_seasonality='True'\n",
    "                                )"
   ]
  },
  {
   "cell_type": "code",
   "execution_count": null,
   "id": "86144ece-3b4a-4211-8ff9-b363b77a06c1",
   "metadata": {},
   "outputs": [],
   "source": [
    "amf.fit(data=train_rnk_hdf, key=\"PRICE_AT_TIMESTAMP\", group_key=\"STATION_UUID\", holiday=holiday_data_hdf)"
   ]
  },
  {
   "cell_type": "code",
   "execution_count": null,
   "id": "35059b16-f833-4617-9ced-6f48484f75c9",
   "metadata": {},
   "outputs": [],
   "source": [
    "print(conn.last_execute_statement)"
   ]
  },
  {
   "cell_type": "code",
   "execution_count": null,
   "id": "719700e3-65c4-4db1-8824-46df13466e07",
   "metadata": {},
   "outputs": [],
   "source": [
    "amf.model_.head(5).collect()"
   ]
  },
  {
   "cell_type": "code",
   "execution_count": null,
   "id": "98f5d5b7-10c6-465c-bf84-7b62bd703f5d",
   "metadata": {},
   "outputs": [],
   "source": [
    "result = amf.predict(data=test_rnk_hdf, key=\"PRICE_AT_TIMESTAMP\", group_key=\"STATION_UUID\")"
   ]
  },
  {
   "cell_type": "code",
   "execution_count": null,
   "id": "84a7da03-0f52-47cc-a687-60344b901059",
   "metadata": {},
   "outputs": [],
   "source": [
    "# look at predictions for one POS\n",
    "# predict returns an array of three dataframes. \n",
    "\n",
    "result[0].head(10).collect()"
   ]
  },
  {
   "attachments": {},
   "cell_type": "markdown",
   "id": "ee002b34-f034-44df-a6ef-e0cdfc77ebd7",
   "metadata": {},
   "source": [
    "### Generate HANA artifacts for CAP project"
   ]
  },
  {
   "cell_type": "code",
   "execution_count": null,
   "id": "9992a1a2-f80d-427c-80d6-228a0491dec1",
   "metadata": {},
   "outputs": [],
   "source": [
    "from hana_ml.artifacts.generators import hana\n",
    "from hana_ml.artifacts.generators.hana import HANAGeneratorForCAP"
   ]
  },
  {
   "cell_type": "code",
   "execution_count": null,
   "id": "5e1fe745-8caa-4648-8f15-737a3833be2c",
   "metadata": {},
   "outputs": [],
   "source": [
    "hanagen = HANAGeneratorForCAP(project_name=\"PAL_PROPHET_FORECAST_4CAP\",\n",
    "                              output_dir=\".\",\n",
    "                              namespace=\"hana.ml\")\n",
    "hanagen.generate_artifacts(amf, model_position=True, cds_gen=False,tudf=True)"
   ]
  }
 ],
 "metadata": {
  "kernelspec": {
   "display_name": "Python 3",
   "language": "python",
   "name": "python3"
  },
  "language_info": {
   "codemirror_mode": {
    "name": "ipython",
    "version": 3
   },
   "file_extension": ".py",
   "mimetype": "text/x-python",
   "name": "python",
   "nbconvert_exporter": "python",
   "pygments_lexer": "ipython3",
   "version": "3.9.2"
  },
  "vscode": {
   "interpreter": {
    "hash": "31f2aee4e71d21fbe5cf8b01ff0e069b9275f58929596ceb00d14d90e3e16cd6"
   }
  }
 },
 "nbformat": 4,
 "nbformat_minor": 5
}
