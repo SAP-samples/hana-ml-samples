{
 "cells": [
  {
   "cell_type": "markdown",
   "metadata": {},
   "source": [
    "# Python HANA ML APL"
   ]
  },
  {
   "cell_type": "markdown",
   "metadata": {},
   "source": [
    "<div class=\"alert alert-block alert-info\">\n",
    "<b>Parallel Predict.</b> <br>\n",
    "</div>"
   ]
  },
  {
   "cell_type": "markdown",
   "metadata": {},
   "source": [
    "## Fit"
   ]
  },
  {
   "cell_type": "code",
   "execution_count": null,
   "metadata": {},
   "outputs": [],
   "source": [
    "from hana_ml import dataframe as hd\n",
    "conn = hd.ConnectionContext(userkey='MLMDA_KEY')\n",
    "sql_cmd =  \"select * from APL_SAMPLES.CENSUS order by 1\"\n",
    "hdf_train = hd.DataFrame(conn, sql_cmd)"
   ]
  },
  {
   "cell_type": "code",
   "execution_count": null,
   "metadata": {},
   "outputs": [],
   "source": [
    "from hana_ml.algorithms.apl.gradient_boosting_classification import GradientBoostingBinaryClassifier\n",
    "apl_model = GradientBoostingBinaryClassifier(variable_auto_selection = True)\n",
    "apl_model.fit(hdf_train, label='class', key='id')"
   ]
  },
  {
   "cell_type": "markdown",
   "metadata": {},
   "source": [
    "## Predict in Parallel"
   ]
  },
  {
   "cell_type": "code",
   "execution_count": null,
   "metadata": {},
   "outputs": [],
   "source": [
    "apl_model.set_params(extra_applyout_settings=\n",
    "{ 'APL/ApplyExtraMode': 'Advanced Apply Settings', \n",
    "  'APL/ApplyPredictedValue': 'true', \n",
    "  'APL/ApplyProbability': 'true', \n",
    "  'APL/ApplyDecision': 'true' }\n",
    ")\n",
    "apl_model.set_params(max_tasks=4)  #  TASKS FOR EXECUTION IN PARALLEL\n",
    "\n",
    "hdf_apply_out = apl_model.predict(hdf_train)"
   ]
  },
  {
   "cell_type": "code",
   "execution_count": null,
   "metadata": {},
   "outputs": [],
   "source": [
    "hdf_apply_out.head(3).collect().style.hide(axis='index')"
   ]
  },
  {
   "cell_type": "code",
   "execution_count": null,
   "metadata": {},
   "outputs": [],
   "source": []
  }
 ],
 "metadata": {
  "kernelspec": {
   "display_name": "Python 3 (ipykernel)",
   "language": "python",
   "name": "python3"
  },
  "language_info": {
   "codemirror_mode": {
    "name": "ipython",
    "version": 3
   },
   "file_extension": ".py",
   "mimetype": "text/x-python",
   "name": "python",
   "nbconvert_exporter": "python",
   "pygments_lexer": "ipython3",
   "version": "3.12.4"
  }
 },
 "nbformat": 4,
 "nbformat_minor": 4
}
