{
 "cells": [
  {
   "cell_type": "markdown",
   "metadata": {},
   "source": [
    "# Python HANA ML APL"
   ]
  },
  {
   "cell_type": "markdown",
   "metadata": {},
   "source": [
    "<div class=\"alert alert-block alert-info\">\n",
    "<b>Predicting Car Insurance Fraud.</b> <br>\n",
    "</div>"
   ]
  },
  {
   "cell_type": "markdown",
   "metadata": {},
   "source": [
    "### Create an HANA Dataframe containing historical Insurance Claims"
   ]
  },
  {
   "cell_type": "code",
   "execution_count": null,
   "metadata": {
    "scrolled": true
   },
   "outputs": [],
   "source": [
    "from hana_ml import dataframe as hd\n",
    "conn = hd.ConnectionContext(userkey='MLMDA_KEY')\n",
    "hdf_new = conn.table('AUTO_CLAIMS_NEW', schema='APL_SAMPLES')"
   ]
  },
  {
   "cell_type": "code",
   "execution_count": null,
   "metadata": {},
   "outputs": [],
   "source": [
    "hdf_new.head(3).collect()"
   ]
  },
  {
   "cell_type": "markdown",
   "metadata": {},
   "source": [
    "### Load Trained Model"
   ]
  },
  {
   "cell_type": "code",
   "execution_count": null,
   "metadata": {},
   "outputs": [],
   "source": [
    "from hana_ml.model_storage import ModelStorage\n",
    "model_storage = ModelStorage(connection_context=conn, schema='USER_APL')\n",
    "apl_model = model_storage.load_model(name='My Fraud Model')\n",
    "apl_model.get_model_info()"
   ]
  },
  {
   "cell_type": "code",
   "execution_count": null,
   "metadata": {},
   "outputs": [],
   "source": [
    "df = apl_model.get_summary().filter(\"KEY in ('ModelVariableCount', 'ModelSelectedVariableCount', 'ModelRecordCount', 'ModelBuildDate')\").collect()\n",
    "df['KEY'] = df['KEY'].str.replace('Model', '').str.replace('Selected', 'Selected ')\n",
    "df['KEY'] = df['KEY'].str.replace('Count', ' Count').str.replace('Date', ' Date')\n",
    "df = df[['KEY','VALUE']]\n",
    "df.columns = ['Property', 'Value']\n",
    "df.style.hide(axis='index')"
   ]
  },
  {
   "cell_type": "markdown",
   "metadata": {},
   "source": [
    "### Make Predictions on New Claims"
   ]
  },
  {
   "cell_type": "code",
   "execution_count": null,
   "metadata": {},
   "outputs": [],
   "source": [
    "apl_model.set_params(extra_applyout_settings=\n",
    "{ 'APL/ApplyExtraMode': 'Advanced Apply Settings', \n",
    "  'APL/ApplyPredictedValue': 'true', \n",
    "  'APL/ApplyProbability': 'true', \n",
    "  'APL/ApplyDecision': 'true', \n",
    "  'APL/ApplyReasonCode/TopCount': '3', \n",
    "  'APL/ApplyReasonCode/ShowStrengthValue': 'false', \n",
    "  'APL/ApplyReasonCode/ShowStrengthIndicator': 'false' }\n",
    ")\n",
    "df = apl_model.predict(hdf_new).collect()"
   ]
  },
  {
   "cell_type": "code",
   "execution_count": null,
   "metadata": {},
   "outputs": [],
   "source": [
    "col_dict = {'PREDICTED': 'Target Predicted', \n",
    "        'gb_score_IS_FRAUD': 'Score', \n",
    "        'gb_proba_IS_FRAUD': 'Probability'}\n",
    "df.rename(columns=col_dict, inplace=True)\n",
    "df.columns = [hdr.replace(\"gb_\", \"\") for hdr in df.columns]\n",
    "format_dict = {'Probability': '{:,.1%}','Score':'{0:,.2f}'}\n",
    "df.head(7).style.format(format_dict).hide(axis='index')"
   ]
  },
  {
   "cell_type": "code",
   "execution_count": null,
   "metadata": {},
   "outputs": [],
   "source": []
  }
 ],
 "metadata": {
  "kernelspec": {
   "display_name": "Python 3 (ipykernel)",
   "language": "python",
   "name": "python3"
  },
  "language_info": {
   "codemirror_mode": {
    "name": "ipython",
    "version": 3
   },
   "file_extension": ".py",
   "mimetype": "text/x-python",
   "name": "python",
   "nbconvert_exporter": "python",
   "pygments_lexer": "ipython3",
   "version": "3.12.4"
  }
 },
 "nbformat": 4,
 "nbformat_minor": 4
}
