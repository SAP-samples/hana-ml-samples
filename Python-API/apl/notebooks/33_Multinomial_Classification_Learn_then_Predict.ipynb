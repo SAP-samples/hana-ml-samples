{
 "cells": [
  {
   "cell_type": "markdown",
   "metadata": {},
   "source": [
    "# Python HANA ML APL"
   ]
  },
  {
   "cell_type": "markdown",
   "metadata": {},
   "source": [
    "<div class=\"alert alert-block alert-info\">\n",
    "<b>Predicting a nominal target with more than  two classes.</b> <br>\n",
    "</div>"
   ]
  },
  {
   "cell_type": "markdown",
   "metadata": {},
   "source": [
    "## Train"
   ]
  },
  {
   "cell_type": "markdown",
   "metadata": {},
   "source": [
    "### Create an HANA Dataframe for the training data"
   ]
  },
  {
   "cell_type": "code",
   "execution_count": null,
   "metadata": {},
   "outputs": [],
   "source": [
    "from hana_ml import dataframe as hd\n",
    "conn = hd.ConnectionContext(userkey='MLMDA_KEY')\n",
    "sql_cmd =  \"\"\" \n",
    "select * from apl_samples.census \n",
    "where \"marital-status\" not in (\n",
    "  select \"marital-status\" from apl_samples.census \n",
    "  group by \"marital-status\" having count(*) < 1500 )\n",
    "order by \"id\"\n",
    "\"\"\"\n",
    "hfd_train = hd.DataFrame(conn, sql_cmd)\n",
    "hfd_train.head(5).collect()"
   ]
  },
  {
   "cell_type": "code",
   "execution_count": null,
   "metadata": {},
   "outputs": [],
   "source": [
    "hfd_train.shape[0]"
   ]
  },
  {
   "cell_type": "code",
   "execution_count": null,
   "metadata": {},
   "outputs": [],
   "source": [
    "col_key = 'id'\n",
    "col_target = 'marital-status'\n",
    "col_predictors = hfd_train.columns\n",
    "col_predictors.remove(col_key)\n",
    "col_predictors.remove(col_target)\n",
    "col_predictors.remove('education-num')\n",
    "len(col_predictors)"
   ]
  },
  {
   "cell_type": "markdown",
   "metadata": {},
   "source": [
    "### Fit with APL Gradient Boosting"
   ]
  },
  {
   "cell_type": "code",
   "execution_count": null,
   "metadata": {},
   "outputs": [],
   "source": [
    "from hana_ml.algorithms.apl.gradient_boosting_classification import GradientBoostingClassifier\n",
    "apl_model = GradientBoostingClassifier()\n",
    "apl_model.set_params(variable_auto_selection = True, \n",
    "                     variable_selection_max_nb_of_final_variables = '6')\n",
    "apl_model.fit(hfd_train, label=col_target, key=col_key, features=col_predictors)"
   ]
  },
  {
   "cell_type": "markdown",
   "metadata": {},
   "source": [
    "##### Model Reports"
   ]
  },
  {
   "cell_type": "code",
   "execution_count": null,
   "metadata": {
    "scrolled": true
   },
   "outputs": [],
   "source": [
    "my_filter = \"\\\"Partition\\\" = 'Estimation'\"\n",
    "df = apl_model.get_debrief_report('MultiClassTarget_Statistics').filter(my_filter).collect()\n",
    "df.drop('Oid', axis=1, inplace=True)\n",
    "df.drop('Target Key', axis=1, inplace=True)\n",
    "format_dict = {'% Weight':'{:,.2f}%', 'Weight':'{:,.0f}'}\n",
    "df.style.format(format_dict).hide(axis='index')"
   ]
  },
  {
   "cell_type": "code",
   "execution_count": null,
   "metadata": {},
   "outputs": [],
   "source": [
    "from hana_ml.visualizers.unified_report import UnifiedReport\n",
    "UnifiedReport(apl_model).build().display()"
   ]
  },
  {
   "cell_type": "code",
   "execution_count": null,
   "metadata": {},
   "outputs": [],
   "source": [
    "df = apl_model.get_debrief_report('ClassificationRegression_VariablesExclusion').collect()\n",
    "df = df[['Variable', 'Reason For Exclusion']]\n",
    "df.style.hide(axis='index')"
   ]
  },
  {
   "cell_type": "markdown",
   "metadata": {},
   "source": [
    "## Make Predictions"
   ]
  },
  {
   "cell_type": "markdown",
   "metadata": {},
   "source": [
    "#####  New dataframe to try the model"
   ]
  },
  {
   "cell_type": "code",
   "execution_count": null,
   "metadata": {},
   "outputs": [],
   "source": [
    "sql_cmd = 'select * from apl_samples.census where \"id\" between 550 and 554 order by \"id\"'\n",
    "hfd_apply = hd.DataFrame(conn, sql_cmd)\n",
    "hfd_apply.collect().style.hide(axis='index')"
   ]
  },
  {
   "cell_type": "markdown",
   "metadata": {},
   "source": [
    "#####  Predict and give the top 3 reasons"
   ]
  },
  {
   "cell_type": "code",
   "execution_count": null,
   "metadata": {},
   "outputs": [],
   "source": [
    "apl_model.set_params( extra_applyout_settings=\n",
    "{ 'APL/ApplyExtraMode': 'Advanced Apply Settings', \n",
    "  'APL/ApplyPredictedValue': 'false', \n",
    "  'APL/ApplyProbability': 'false', \n",
    "  'APL/ApplyDecision': 'true', \n",
    "  'APL/ApplyReasonCode/TopCount': '3', \n",
    "  'APL/ApplyReasonCode/ShowStrengthValue': 'false', \n",
    "  'APL/ApplyReasonCode/ShowStrengthIndicator': 'false' }\n",
    ")\n",
    "df = apl_model.predict(hfd_apply).collect()\n",
    "df.columns = ['Id', 'Actual', 'Prediction', 'Reason 1 Name', 'Reason 1 Value', 'Reason 2 Name', 'Reason 2 Value', 'Reason 3 Name', 'Reason 3 Value']\n",
    "df.style.hide(axis='index')"
   ]
  },
  {
   "cell_type": "markdown",
   "metadata": {},
   "source": [
    "#####  Score for each class"
   ]
  },
  {
   "cell_type": "code",
   "execution_count": null,
   "metadata": {},
   "outputs": [],
   "source": [
    "apl_model.set_params( extra_applyout_settings=\n",
    "{ 'APL/ApplyExtraMode': 'Advanced Apply Settings', \n",
    "  'APL/ApplyPredictedValue': 'true', \n",
    "  'APL/ApplyProbability': 'false', \n",
    "  'APL/ApplyDecision': 'true', \n",
    " }\n",
    ")\n",
    "df = apl_model.predict(hfd_apply).collect()\n",
    "df.rename(columns={'TRUE_LABEL': 'Actual','PREDICTED': 'Prediction'}, inplace=True)\n",
    "df.columns = [hdr.replace(\"gb_score_marital-status_\", \"\") for hdr in df]\n",
    "df.style.hide(axis='index')"
   ]
  },
  {
   "cell_type": "markdown",
   "metadata": {},
   "source": [
    "##### Export the model equation for scoring in stand-alone JavaScript"
   ]
  },
  {
   "cell_type": "code",
   "execution_count": null,
   "metadata": {},
   "outputs": [],
   "source": [
    "apl_scoring_equation = apl_model.export_apply_code(code_type='JSON')\n",
    "text_file = open(\"apl_model.json\", \"w\")\n",
    "text_file.write(apl_scoring_equation)\n",
    "text_file.close()"
   ]
  }
 ],
 "metadata": {
  "kernelspec": {
   "display_name": "Python 3 (ipykernel)",
   "language": "python",
   "name": "python3"
  },
  "language_info": {
   "codemirror_mode": {
    "name": "ipython",
    "version": 3
   },
   "file_extension": ".py",
   "mimetype": "text/x-python",
   "name": "python",
   "nbconvert_exporter": "python",
   "pygments_lexer": "ipython3",
   "version": "3.12.4"
  }
 },
 "nbformat": 4,
 "nbformat_minor": 4
}
