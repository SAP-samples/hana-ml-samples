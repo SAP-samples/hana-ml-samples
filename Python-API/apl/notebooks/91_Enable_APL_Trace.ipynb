{
 "cells": [
  {
   "cell_type": "markdown",
   "metadata": {},
   "source": [
    "# Python HANA ML APL Logger"
   ]
  },
  {
   "cell_type": "markdown",
   "metadata": {},
   "source": [
    "### Enable Trace"
   ]
  },
  {
   "cell_type": "code",
   "execution_count": null,
   "metadata": {},
   "outputs": [],
   "source": [
    "import hana_ml.algorithms.apl.apl_base as apl_base\n",
    "import logging\n",
    "\n",
    "apl_base.config_logger( \n",
    "    log_path='C:/My_folder',\n",
    "    logfile_name='HANA_PYTHON_APL_TRACE',  \n",
    "    log_console=True,       \n",
    "    log_level=logging.INFO    # =logging.ERROR  # Disable \n",
    ")"
   ]
  },
  {
   "cell_type": "markdown",
   "metadata": {},
   "source": [
    "### Create an HANA Dataframe for the training data"
   ]
  },
  {
   "cell_type": "code",
   "execution_count": null,
   "metadata": {},
   "outputs": [],
   "source": [
    "from hana_ml import dataframe as hd\n",
    "conn = hd.ConnectionContext(userkey='MLMDA_KEY')\n",
    "sql_cmd = 'SELECT * FROM \"APL_SAMPLES\".\"AUTO_CLAIMS_FRAUD\" ORDER BY CLAIM_ID'\n",
    "hdf_train = hd.DataFrame(conn, sql_cmd)"
   ]
  },
  {
   "cell_type": "markdown",
   "metadata": {},
   "source": [
    "### Build a Classification model with APL Gradient Boosting"
   ]
  },
  {
   "cell_type": "code",
   "execution_count": null,
   "metadata": {},
   "outputs": [],
   "source": [
    "# Create the model  \n",
    "from hana_ml.algorithms.apl.gradient_boosting_classification import GradientBoostingBinaryClassifier\n",
    "apl_model = GradientBoostingBinaryClassifier(eval_metric = 'AUC')\n",
    "# Train the model\n",
    "apl_model.fit(hdf_train, label='IS_FRAUD', key='CLAIM_ID')"
   ]
  },
  {
   "cell_type": "code",
   "execution_count": null,
   "metadata": {},
   "outputs": [],
   "source": []
  }
 ],
 "metadata": {
  "kernelspec": {
   "display_name": "Python 3 (ipykernel)",
   "language": "python",
   "name": "python3"
  },
  "language_info": {
   "codemirror_mode": {
    "name": "ipython",
    "version": 3
   },
   "file_extension": ".py",
   "mimetype": "text/x-python",
   "name": "python",
   "nbconvert_exporter": "python",
   "pygments_lexer": "ipython3",
   "version": "3.12.4"
  }
 },
 "nbformat": 4,
 "nbformat_minor": 4
}
