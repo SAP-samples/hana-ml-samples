{
 "cells": [
  {
   "cell_type": "markdown",
   "metadata": {},
   "source": [
    "# Estimate car price - Impute data and train Machine Learning model\n",
    "This notebook is part of a Machine Learning project that is described and available to download on \n",
    "<BR><a href=\"https://blogs.sap.com/2019/11/05/hands-on-tutorial-machine-learning-push-down-to-sap-hana-with-python/\">https://blogs.sap.com/2019/11/05/hands-on-tutorial-machine-learning-push-down-to-sap-hana-with-python/</a>\n",
    "<BR><BR>The purpose of this notebook is to deal with missing values in the dataset and to train a Machine Learning model that can predict a car's price."
   ]
  },
  {
   "cell_type": "markdown",
   "metadata": {},
   "source": [
    "### Steps in this notebook\n",
    "-  Connect to SAP HANA\n",
    "-  Create a SAP HANA DataFrame which points to the data\n",
    "-  Deal with missing values, mostly by replacing a missing value with the column average\n",
    "-  Train and improve a Machine Learning model\n",
    "-  Carry out an error analysis to understand in which areas the model performed better or worse.\n",
    "\n",
    "### Documentation\n",
    "-  SAP HANA Python Client API for Machine Learning Algorithms:   \n",
    "   https://help.sap.com/doc/0172e3957b5946da85d3fde85ee8f33d/latest/en-US/html/hana_ml.html\n",
    "-  SAP HANA Predictive Analysis Library (PAL):  \n",
    "   https://help.sap.com/viewer/2cfbc5cf2bc14f028cfbe2a2bba60a50/latest/en-US/f652a8186a144e929a1ade7a3cb7abe8.html\n",
    "-  Dataset: https://www.kaggle.com/bozungu/ebay-used-car-sales-data"
   ]
  },
  {
   "cell_type": "markdown",
   "metadata": {},
   "source": [
    "### Create a SAP HANA DataFrame, which points to the training data\n",
    "Instantiate a connecton object to SAP HANA.\n",
    "-  For simplicity, to help you get started, these values are hardcoded here. \n",
    "-  We recommend keeping these credentials in the Secure User Store of the SAP HANA Client. Retrieving the credentials from the Secure User Store prevents having to specify these credentials in clear text. See the blog on the SAP Commmunity to which these notebooks belong, for steps on how to use that Secure User Store."
   ]
  },
  {
   "cell_type": "code",
   "execution_count": 1,
   "metadata": {},
   "outputs": [],
   "source": [
    "import hana_ml.dataframe as dataframe\n",
    "conn = dataframe.ConnectionContext(userkey = 'hana_hxe', encrypt = 'true', sslValidateCertificate = 'false')"
   ]
  },
  {
   "cell_type": "markdown",
   "metadata": {},
   "source": [
    "Create the SAP HANA DataFrame, which points to the view with historic sales. No data is extracted."
   ]
  },
  {
   "cell_type": "code",
   "execution_count": 2,
   "metadata": {},
   "outputs": [],
   "source": [
    "df_remote_history = conn.table(table = 'USEDCARPRICES_TOTRAIN').sort(\"CAR_ID\", desc = False )"
   ]
  },
  {
   "cell_type": "markdown",
   "metadata": {},
   "source": [
    "### Display some of the rows with missing data\n",
    "The descriptive statistics in the earlier notebook showed that some columns contain missing values. Show some of the rows in which the information about the GEARBOX is missing. The missing value is shown as \"None\"."
   ]
  },
  {
   "cell_type": "code",
   "execution_count": 3,
   "metadata": {},
   "outputs": [
    {
     "data": {
      "text/html": [
       "<div>\n",
       "<style scoped>\n",
       "    .dataframe tbody tr th:only-of-type {\n",
       "        vertical-align: middle;\n",
       "    }\n",
       "\n",
       "    .dataframe tbody tr th {\n",
       "        vertical-align: top;\n",
       "    }\n",
       "\n",
       "    .dataframe thead th {\n",
       "        text-align: right;\n",
       "    }\n",
       "</style>\n",
       "<table border=\"1\" class=\"dataframe\">\n",
       "  <thead>\n",
       "    <tr style=\"text-align: right;\">\n",
       "      <th></th>\n",
       "      <th>CAR_ID</th>\n",
       "      <th>VEHICLETYPE</th>\n",
       "      <th>YEAR</th>\n",
       "      <th>GEARBOX</th>\n",
       "      <th>HP</th>\n",
       "      <th>MODEL</th>\n",
       "      <th>KILOMETER</th>\n",
       "      <th>FUELTYPE</th>\n",
       "      <th>PRICE</th>\n",
       "    </tr>\n",
       "  </thead>\n",
       "  <tbody>\n",
       "    <tr>\n",
       "      <th>0</th>\n",
       "      <td>170</td>\n",
       "      <td>limousine</td>\n",
       "      <td>2000</td>\n",
       "      <td>None</td>\n",
       "      <td>82</td>\n",
       "      <td>A-Class</td>\n",
       "      <td>150000</td>\n",
       "      <td>petrol</td>\n",
       "      <td>1299.0</td>\n",
       "    </tr>\n",
       "    <tr>\n",
       "      <th>1</th>\n",
       "      <td>192</td>\n",
       "      <td>suv</td>\n",
       "      <td>2007</td>\n",
       "      <td>None</td>\n",
       "      <td>306</td>\n",
       "      <td>M-Class</td>\n",
       "      <td>150000</td>\n",
       "      <td>diesel</td>\n",
       "      <td>16500.0</td>\n",
       "    </tr>\n",
       "    <tr>\n",
       "      <th>2</th>\n",
       "      <td>249</td>\n",
       "      <td>coupe</td>\n",
       "      <td>2004</td>\n",
       "      <td>None</td>\n",
       "      <td>0</td>\n",
       "      <td>C-Class</td>\n",
       "      <td>100000</td>\n",
       "      <td>petrol</td>\n",
       "      <td>4450.0</td>\n",
       "    </tr>\n",
       "    <tr>\n",
       "      <th>3</th>\n",
       "      <td>250</td>\n",
       "      <td>limousine</td>\n",
       "      <td>2009</td>\n",
       "      <td>None</td>\n",
       "      <td>0</td>\n",
       "      <td>A-Class</td>\n",
       "      <td>50000</td>\n",
       "      <td>petrol</td>\n",
       "      <td>8100.0</td>\n",
       "    </tr>\n",
       "    <tr>\n",
       "      <th>4</th>\n",
       "      <td>268</td>\n",
       "      <td>kombi</td>\n",
       "      <td>2002</td>\n",
       "      <td>None</td>\n",
       "      <td>0</td>\n",
       "      <td>E-Class</td>\n",
       "      <td>150000</td>\n",
       "      <td>diesel</td>\n",
       "      <td>1800.0</td>\n",
       "    </tr>\n",
       "  </tbody>\n",
       "</table>\n",
       "</div>"
      ],
      "text/plain": [
       "   CAR_ID VEHICLETYPE  YEAR GEARBOX   HP    MODEL  KILOMETER FUELTYPE    PRICE\n",
       "0     170   limousine  2000    None   82  A-Class     150000   petrol   1299.0\n",
       "1     192         suv  2007    None  306  M-Class     150000   diesel  16500.0\n",
       "2     249       coupe  2004    None    0  C-Class     100000   petrol   4450.0\n",
       "3     250   limousine  2009    None    0  A-Class      50000   petrol   8100.0\n",
       "4     268       kombi  2002    None    0  E-Class     150000   diesel   1800.0"
      ]
     },
     "execution_count": 3,
     "metadata": {},
     "output_type": "execute_result"
    }
   ],
   "source": [
    "df_remote_history.filter('GEARBOX IS NULL').head(5).collect()"
   ]
  },
  {
   "cell_type": "markdown",
   "metadata": {},
   "source": [
    "### Impute missing values  \n",
    "Impute numerical columns with their average value and categorical columns with their most frequent value. For the GEARBOX column replace missing values with the term \"Gearbox unknown\"."
   ]
  },
  {
   "cell_type": "code",
   "execution_count": 4,
   "metadata": {},
   "outputs": [],
   "source": [
    "from hana_ml.algorithms.pal.preprocessing import Imputer\n",
    "impute = Imputer(strategy = 'mean')\n",
    "df_remote_imp = impute.fit_transform(data = df_remote_history,\n",
    "                                     strategy_by_col = [('GEARBOX', 'categorical_const', 'Gearbox unknown')])"
   ]
  },
  {
   "cell_type": "markdown",
   "metadata": {},
   "source": [
    "The descriptive statistics for the imputed SAP HANA Data Frame correctly show, that no columns contain null values anymore."
   ]
  },
  {
   "cell_type": "code",
   "execution_count": 5,
   "metadata": {},
   "outputs": [
    {
     "data": {
      "text/html": [
       "<div>\n",
       "<style scoped>\n",
       "    .dataframe tbody tr th:only-of-type {\n",
       "        vertical-align: middle;\n",
       "    }\n",
       "\n",
       "    .dataframe tbody tr th {\n",
       "        vertical-align: top;\n",
       "    }\n",
       "\n",
       "    .dataframe thead th {\n",
       "        text-align: right;\n",
       "    }\n",
       "</style>\n",
       "<table border=\"1\" class=\"dataframe\">\n",
       "  <thead>\n",
       "    <tr style=\"text-align: right;\">\n",
       "      <th></th>\n",
       "      <th>column</th>\n",
       "      <th>count</th>\n",
       "      <th>unique</th>\n",
       "      <th>nulls</th>\n",
       "      <th>mean</th>\n",
       "      <th>std</th>\n",
       "      <th>min</th>\n",
       "      <th>max</th>\n",
       "      <th>median</th>\n",
       "      <th>25_percent_cont</th>\n",
       "      <th>25_percent_disc</th>\n",
       "      <th>50_percent_cont</th>\n",
       "      <th>50_percent_disc</th>\n",
       "      <th>75_percent_cont</th>\n",
       "      <th>75_percent_disc</th>\n",
       "    </tr>\n",
       "  </thead>\n",
       "  <tbody>\n",
       "    <tr>\n",
       "      <th>0</th>\n",
       "      <td>CAR_ID</td>\n",
       "      <td>19800</td>\n",
       "      <td>19800</td>\n",
       "      <td>0</td>\n",
       "      <td>13453.572980</td>\n",
       "      <td>7770.315293</td>\n",
       "      <td>0.0</td>\n",
       "      <td>26899.0</td>\n",
       "      <td>13504.0</td>\n",
       "      <td>6711.75</td>\n",
       "      <td>6711.0</td>\n",
       "      <td>13503.5</td>\n",
       "      <td>13503.0</td>\n",
       "      <td>20161.25</td>\n",
       "      <td>20161.0</td>\n",
       "    </tr>\n",
       "    <tr>\n",
       "      <th>1</th>\n",
       "      <td>YEAR</td>\n",
       "      <td>19800</td>\n",
       "      <td>22</td>\n",
       "      <td>0</td>\n",
       "      <td>2006.343939</td>\n",
       "      <td>34.956677</td>\n",
       "      <td>2000.0</td>\n",
       "      <td>6200.0</td>\n",
       "      <td>2005.0</td>\n",
       "      <td>2002.00</td>\n",
       "      <td>2002.0</td>\n",
       "      <td>2005.0</td>\n",
       "      <td>2005.0</td>\n",
       "      <td>2009.00</td>\n",
       "      <td>2009.0</td>\n",
       "    </tr>\n",
       "    <tr>\n",
       "      <th>2</th>\n",
       "      <td>HP</td>\n",
       "      <td>19800</td>\n",
       "      <td>257</td>\n",
       "      <td>0</td>\n",
       "      <td>167.690303</td>\n",
       "      <td>126.374861</td>\n",
       "      <td>0.0</td>\n",
       "      <td>13636.0</td>\n",
       "      <td>163.0</td>\n",
       "      <td>122.00</td>\n",
       "      <td>122.0</td>\n",
       "      <td>163.0</td>\n",
       "      <td>163.0</td>\n",
       "      <td>204.00</td>\n",
       "      <td>204.0</td>\n",
       "    </tr>\n",
       "    <tr>\n",
       "      <th>3</th>\n",
       "      <td>KILOMETER</td>\n",
       "      <td>19800</td>\n",
       "      <td>13</td>\n",
       "      <td>0</td>\n",
       "      <td>125879.292929</td>\n",
       "      <td>38388.672308</td>\n",
       "      <td>5000.0</td>\n",
       "      <td>150000.0</td>\n",
       "      <td>150000.0</td>\n",
       "      <td>100000.00</td>\n",
       "      <td>100000.0</td>\n",
       "      <td>150000.0</td>\n",
       "      <td>150000.0</td>\n",
       "      <td>150000.00</td>\n",
       "      <td>150000.0</td>\n",
       "    </tr>\n",
       "    <tr>\n",
       "      <th>4</th>\n",
       "      <td>PRICE</td>\n",
       "      <td>19800</td>\n",
       "      <td>1694</td>\n",
       "      <td>0</td>\n",
       "      <td>10594.877879</td>\n",
       "      <td>8743.525019</td>\n",
       "      <td>0.0</td>\n",
       "      <td>49999.0</td>\n",
       "      <td>7777.0</td>\n",
       "      <td>4000.00</td>\n",
       "      <td>4000.0</td>\n",
       "      <td>7777.0</td>\n",
       "      <td>7777.0</td>\n",
       "      <td>14900.00</td>\n",
       "      <td>14900.0</td>\n",
       "    </tr>\n",
       "    <tr>\n",
       "      <th>5</th>\n",
       "      <td>VEHICLETYPE</td>\n",
       "      <td>19800</td>\n",
       "      <td>8</td>\n",
       "      <td>0</td>\n",
       "      <td>NaN</td>\n",
       "      <td>NaN</td>\n",
       "      <td>NaN</td>\n",
       "      <td>NaN</td>\n",
       "      <td>NaN</td>\n",
       "      <td>NaN</td>\n",
       "      <td>NaN</td>\n",
       "      <td>NaN</td>\n",
       "      <td>NaN</td>\n",
       "      <td>NaN</td>\n",
       "      <td>NaN</td>\n",
       "    </tr>\n",
       "    <tr>\n",
       "      <th>6</th>\n",
       "      <td>GEARBOX</td>\n",
       "      <td>19800</td>\n",
       "      <td>3</td>\n",
       "      <td>0</td>\n",
       "      <td>NaN</td>\n",
       "      <td>NaN</td>\n",
       "      <td>NaN</td>\n",
       "      <td>NaN</td>\n",
       "      <td>NaN</td>\n",
       "      <td>NaN</td>\n",
       "      <td>NaN</td>\n",
       "      <td>NaN</td>\n",
       "      <td>NaN</td>\n",
       "      <td>NaN</td>\n",
       "      <td>NaN</td>\n",
       "    </tr>\n",
       "    <tr>\n",
       "      <th>7</th>\n",
       "      <td>MODEL</td>\n",
       "      <td>19800</td>\n",
       "      <td>18</td>\n",
       "      <td>0</td>\n",
       "      <td>NaN</td>\n",
       "      <td>NaN</td>\n",
       "      <td>NaN</td>\n",
       "      <td>NaN</td>\n",
       "      <td>NaN</td>\n",
       "      <td>NaN</td>\n",
       "      <td>NaN</td>\n",
       "      <td>NaN</td>\n",
       "      <td>NaN</td>\n",
       "      <td>NaN</td>\n",
       "      <td>NaN</td>\n",
       "    </tr>\n",
       "    <tr>\n",
       "      <th>8</th>\n",
       "      <td>FUELTYPE</td>\n",
       "      <td>19800</td>\n",
       "      <td>7</td>\n",
       "      <td>0</td>\n",
       "      <td>NaN</td>\n",
       "      <td>NaN</td>\n",
       "      <td>NaN</td>\n",
       "      <td>NaN</td>\n",
       "      <td>NaN</td>\n",
       "      <td>NaN</td>\n",
       "      <td>NaN</td>\n",
       "      <td>NaN</td>\n",
       "      <td>NaN</td>\n",
       "      <td>NaN</td>\n",
       "      <td>NaN</td>\n",
       "    </tr>\n",
       "  </tbody>\n",
       "</table>\n",
       "</div>"
      ],
      "text/plain": [
       "        column  count  unique  nulls           mean           std     min  \\\n",
       "0       CAR_ID  19800   19800      0   13453.572980   7770.315293     0.0   \n",
       "1         YEAR  19800      22      0    2006.343939     34.956677  2000.0   \n",
       "2           HP  19800     257      0     167.690303    126.374861     0.0   \n",
       "3    KILOMETER  19800      13      0  125879.292929  38388.672308  5000.0   \n",
       "4        PRICE  19800    1694      0   10594.877879   8743.525019     0.0   \n",
       "5  VEHICLETYPE  19800       8      0            NaN           NaN     NaN   \n",
       "6      GEARBOX  19800       3      0            NaN           NaN     NaN   \n",
       "7        MODEL  19800      18      0            NaN           NaN     NaN   \n",
       "8     FUELTYPE  19800       7      0            NaN           NaN     NaN   \n",
       "\n",
       "        max    median  25_percent_cont  25_percent_disc  50_percent_cont  \\\n",
       "0   26899.0   13504.0          6711.75           6711.0          13503.5   \n",
       "1    6200.0    2005.0          2002.00           2002.0           2005.0   \n",
       "2   13636.0     163.0           122.00            122.0            163.0   \n",
       "3  150000.0  150000.0        100000.00         100000.0         150000.0   \n",
       "4   49999.0    7777.0          4000.00           4000.0           7777.0   \n",
       "5       NaN       NaN              NaN              NaN              NaN   \n",
       "6       NaN       NaN              NaN              NaN              NaN   \n",
       "7       NaN       NaN              NaN              NaN              NaN   \n",
       "8       NaN       NaN              NaN              NaN              NaN   \n",
       "\n",
       "   50_percent_disc  75_percent_cont  75_percent_disc  \n",
       "0          13503.0         20161.25          20161.0  \n",
       "1           2005.0          2009.00           2009.0  \n",
       "2            163.0           204.00            204.0  \n",
       "3         150000.0        150000.00         150000.0  \n",
       "4           7777.0         14900.00          14900.0  \n",
       "5              NaN              NaN              NaN  \n",
       "6              NaN              NaN              NaN  \n",
       "7              NaN              NaN              NaN  \n",
       "8              NaN              NaN              NaN  "
      ]
     },
     "execution_count": 5,
     "metadata": {},
     "output_type": "execute_result"
    }
   ],
   "source": [
    "df_remote_imp.describe().collect()"
   ]
  },
  {
   "cell_type": "markdown",
   "metadata": {},
   "source": [
    "To understand the imputation behaviour, investigate how the FUELTYPE was imputed. The number of missing values that were imputed and the replacement value are shown."
   ]
  },
  {
   "cell_type": "code",
   "execution_count": 6,
   "metadata": {},
   "outputs": [
    {
     "data": {
      "text/html": [
       "<div>\n",
       "<style scoped>\n",
       "    .dataframe tbody tr th:only-of-type {\n",
       "        vertical-align: middle;\n",
       "    }\n",
       "\n",
       "    .dataframe tbody tr th {\n",
       "        vertical-align: top;\n",
       "    }\n",
       "\n",
       "    .dataframe thead th {\n",
       "        text-align: right;\n",
       "    }\n",
       "</style>\n",
       "<table border=\"1\" class=\"dataframe\">\n",
       "  <thead>\n",
       "    <tr style=\"text-align: right;\">\n",
       "      <th></th>\n",
       "      <th>STAT_NAME</th>\n",
       "      <th>STAT_VALUE</th>\n",
       "    </tr>\n",
       "  </thead>\n",
       "  <tbody>\n",
       "    <tr>\n",
       "      <th>0</th>\n",
       "      <td>FUELTYPE.NUMBER_OF_NULLS</td>\n",
       "      <td>703</td>\n",
       "    </tr>\n",
       "    <tr>\n",
       "      <th>1</th>\n",
       "      <td>FUELTYPE.IMPUTATION_TYPE</td>\n",
       "      <td>MODE</td>\n",
       "    </tr>\n",
       "    <tr>\n",
       "      <th>2</th>\n",
       "      <td>FUELTYPE.IMPUTED_VALUE</td>\n",
       "      <td>diesel</td>\n",
       "    </tr>\n",
       "  </tbody>\n",
       "</table>\n",
       "</div>"
      ],
      "text/plain": [
       "                  STAT_NAME STAT_VALUE\n",
       "0  FUELTYPE.NUMBER_OF_NULLS        703\n",
       "1  FUELTYPE.IMPUTATION_TYPE       MODE\n",
       "2    FUELTYPE.IMPUTED_VALUE     diesel"
      ]
     },
     "execution_count": 6,
     "metadata": {},
     "output_type": "execute_result"
    }
   ],
   "source": [
    "col_name = 'FUELTYPE'\n",
    "len_col_name = str(len(col_name))\n",
    "impute.stats_model_.filter('LEFT(STAT_NAME, ' + len_col_name + ') = \\'' + col_name +  '\\'').collect()"
   ]
  },
  {
   "cell_type": "markdown",
   "metadata": {},
   "source": [
    "Verify how one of the original rows with missing GEARBOX has been imputed"
   ]
  },
  {
   "cell_type": "code",
   "execution_count": 7,
   "metadata": {},
   "outputs": [
    {
     "data": {
      "text/html": [
       "<div>\n",
       "<style scoped>\n",
       "    .dataframe tbody tr th:only-of-type {\n",
       "        vertical-align: middle;\n",
       "    }\n",
       "\n",
       "    .dataframe tbody tr th {\n",
       "        vertical-align: top;\n",
       "    }\n",
       "\n",
       "    .dataframe thead th {\n",
       "        text-align: right;\n",
       "    }\n",
       "</style>\n",
       "<table border=\"1\" class=\"dataframe\">\n",
       "  <thead>\n",
       "    <tr style=\"text-align: right;\">\n",
       "      <th></th>\n",
       "      <th>CAR_ID</th>\n",
       "      <th>VEHICLETYPE</th>\n",
       "      <th>YEAR</th>\n",
       "      <th>GEARBOX</th>\n",
       "      <th>HP</th>\n",
       "      <th>MODEL</th>\n",
       "      <th>KILOMETER</th>\n",
       "      <th>FUELTYPE</th>\n",
       "      <th>PRICE</th>\n",
       "    </tr>\n",
       "  </thead>\n",
       "  <tbody>\n",
       "    <tr>\n",
       "      <th>0</th>\n",
       "      <td>2412</td>\n",
       "      <td>limousine</td>\n",
       "      <td>2000</td>\n",
       "      <td>Gearbox unknown</td>\n",
       "      <td>163</td>\n",
       "      <td>C-Class</td>\n",
       "      <td>150000</td>\n",
       "      <td>petrol</td>\n",
       "      <td>2999.0</td>\n",
       "    </tr>\n",
       "  </tbody>\n",
       "</table>\n",
       "</div>"
      ],
      "text/plain": [
       "   CAR_ID VEHICLETYPE  YEAR          GEARBOX   HP    MODEL  KILOMETER  \\\n",
       "0    2412   limousine  2000  Gearbox unknown  163  C-Class     150000   \n",
       "\n",
       "  FUELTYPE   PRICE  \n",
       "0   petrol  2999.0  "
      ]
     },
     "execution_count": 7,
     "metadata": {},
     "output_type": "execute_result"
    }
   ],
   "source": [
    "df_remote_imp.filter('CAR_ID = 2412').collect()"
   ]
  },
  {
   "cell_type": "markdown",
   "metadata": {},
   "source": [
    "### Split dataset\n",
    "Split the data into two separate subsets. One subset will be used to train different models. The other subset will be used to test the quality of the models."
   ]
  },
  {
   "cell_type": "code",
   "execution_count": 8,
   "metadata": {},
   "outputs": [],
   "source": [
    "from hana_ml.algorithms.pal import partition\n",
    "df_remote_train, df_remote_test, df_remote_ignore = partition.train_test_val_split(random_seed = 1972,\n",
    "                                                                                   data = df_remote_imp, \n",
    "                                                                                   training_percentage = 0.7, \n",
    "                                                                                   testing_percentage = 0.3,\n",
    "                                                                                   validation_percentage = 0)"
   ]
  },
  {
   "cell_type": "code",
   "execution_count": 9,
   "metadata": {},
   "outputs": [
    {
     "name": "stdout",
     "output_type": "stream",
     "text": [
      "Size of training subset: 13860\n",
      "Size of test subset: 5940\n"
     ]
    }
   ],
   "source": [
    "print('Size of training subset: ' + str(df_remote_train.count()))\n",
    "print('Size of test subset: ' + str(df_remote_test.count()))"
   ]
  },
  {
   "cell_type": "markdown",
   "metadata": {},
   "source": [
    "### Train decision tree regression\n",
    "Train a first model to estimate the price"
   ]
  },
  {
   "cell_type": "code",
   "execution_count": 10,
   "metadata": {},
   "outputs": [],
   "source": [
    "from hana_ml.algorithms.pal import trees\n",
    "tree_reg = trees.DecisionTreeRegressor(algorithm = 'cart',\n",
    "                                       min_records_of_parent = 10,\n",
    "                                       min_records_of_leaf = 1,\n",
    "                                       thread_ratio = 0.4,\n",
    "                                       split_threshold = 1e-5,\n",
    "                                       model_format = 'json',\n",
    "                                       output_rules = True)\n",
    "\n",
    "# Specify the tree's predictors\n",
    "features = ['GEARBOX', 'VEHICLETYPE', 'YEAR', 'MODEL', 'HP', 'FUELTYPE', 'KILOMETER']\n",
    "\n",
    "# Train the tree\n",
    "tree_reg.fit(data = df_remote_train,\n",
    "             key = 'CAR_ID', \n",
    "             label = 'PRICE', \n",
    "             features = features)"
   ]
  },
  {
   "cell_type": "markdown",
   "metadata": {},
   "source": [
    "### Show decision tree logic \n",
    "Display a small element of the whole tree's logic. The first branch of the tree:"
   ]
  },
  {
   "cell_type": "code",
   "execution_count": 11,
   "metadata": {},
   "outputs": [
    {
     "data": {
      "text/plain": [
       "'(YEAR<2006.5) && (HP<222.5) && (YEAR>=2003.5) && ((MODEL=M-Class)||(MODEL=S-Class)||(MODEL=CLK)||(MODEL=Viano)||(MODEL=SLK)||(MODEL=SL)||(MODEL=G-Class)) && ((MODEL=SL)||(MODEL=G-Class)) => 24350'"
      ]
     },
     "execution_count": 11,
     "metadata": {},
     "output_type": "execute_result"
    }
   ],
   "source": [
    "df_rules = tree_reg.decision_rules_.head(1).collect()\n",
    "df_rules.iloc[0,1]"
   ]
  },
  {
   "cell_type": "markdown",
   "metadata": {},
   "source": [
    "### Quality assessment on training data\n",
    "Calculate R^2, the coefficient of determination."
   ]
  },
  {
   "cell_type": "code",
   "execution_count": 12,
   "metadata": {},
   "outputs": [
    {
     "name": "stdout",
     "output_type": "stream",
     "text": [
      "R^2 on training data: 0.94\n"
     ]
    }
   ],
   "source": [
    "print('R^2 on training data: ' + str(round(tree_reg.score(data = df_remote_train,\n",
    "                                                          key = 'CAR_ID'), 3)))"
   ]
  },
  {
   "cell_type": "markdown",
   "metadata": {},
   "source": [
    "### Quality assessment on test data\n",
    "First compare the estimated value with the true value for a small number of cars."
   ]
  },
  {
   "cell_type": "code",
   "execution_count": 13,
   "metadata": {},
   "outputs": [],
   "source": [
    "df_remote_act_pred = df_remote_test.alias('L').join(\n",
    "    tree_reg.predict(data = df_remote_test, features = features, key = 'CAR_ID').alias('R'),\n",
    "    'L.CAR_ID = R.CAR_ID', \n",
    "    select=[('L.CAR_ID', 'CAR_ID'), 'MODEL', ('PRICE','ACTUALS'), ('SCORE', 'PREDICTIONS')])"
   ]
  },
  {
   "cell_type": "code",
   "execution_count": 14,
   "metadata": {},
   "outputs": [
    {
     "data": {
      "text/html": [
       "<div>\n",
       "<style scoped>\n",
       "    .dataframe tbody tr th:only-of-type {\n",
       "        vertical-align: middle;\n",
       "    }\n",
       "\n",
       "    .dataframe tbody tr th {\n",
       "        vertical-align: top;\n",
       "    }\n",
       "\n",
       "    .dataframe thead th {\n",
       "        text-align: right;\n",
       "    }\n",
       "</style>\n",
       "<table border=\"1\" class=\"dataframe\">\n",
       "  <thead>\n",
       "    <tr style=\"text-align: right;\">\n",
       "      <th></th>\n",
       "      <th>CAR_ID</th>\n",
       "      <th>MODEL</th>\n",
       "      <th>ACTUALS</th>\n",
       "      <th>PREDICTIONS</th>\n",
       "    </tr>\n",
       "  </thead>\n",
       "  <tbody>\n",
       "    <tr>\n",
       "      <th>0</th>\n",
       "      <td>6</td>\n",
       "      <td>Vito</td>\n",
       "      <td>1400.0</td>\n",
       "      <td>3485.66</td>\n",
       "    </tr>\n",
       "    <tr>\n",
       "      <th>1</th>\n",
       "      <td>7</td>\n",
       "      <td>Sprinter</td>\n",
       "      <td>5000.0</td>\n",
       "      <td>5516.5</td>\n",
       "    </tr>\n",
       "    <tr>\n",
       "      <th>2</th>\n",
       "      <td>25</td>\n",
       "      <td>M-Class</td>\n",
       "      <td>27500.0</td>\n",
       "      <td>20971.5</td>\n",
       "    </tr>\n",
       "    <tr>\n",
       "      <th>3</th>\n",
       "      <td>28</td>\n",
       "      <td>Other</td>\n",
       "      <td>11700.0</td>\n",
       "      <td>11102.3</td>\n",
       "    </tr>\n",
       "    <tr>\n",
       "      <th>4</th>\n",
       "      <td>35</td>\n",
       "      <td>A-Class</td>\n",
       "      <td>2990.0</td>\n",
       "      <td>2493.59</td>\n",
       "    </tr>\n",
       "  </tbody>\n",
       "</table>\n",
       "</div>"
      ],
      "text/plain": [
       "   CAR_ID     MODEL  ACTUALS PREDICTIONS\n",
       "0       6      Vito   1400.0     3485.66\n",
       "1       7  Sprinter   5000.0      5516.5\n",
       "2      25   M-Class  27500.0     20971.5\n",
       "3      28     Other  11700.0     11102.3\n",
       "4      35   A-Class   2990.0     2493.59"
      ]
     },
     "execution_count": 14,
     "metadata": {},
     "output_type": "execute_result"
    }
   ],
   "source": [
    "df_remote_act_pred.head(5).collect()"
   ]
  },
  {
   "cell_type": "markdown",
   "metadata": {},
   "source": [
    "The underlying SELECT statement was automatically created to produce the above table."
   ]
  },
  {
   "cell_type": "code",
   "execution_count": 15,
   "metadata": {},
   "outputs": [
    {
     "data": {
      "text/plain": [
       "'SELECT L.CAR_ID AS \"CAR_ID\", \"MODEL\", PRICE AS \"ACTUALS\", SCORE AS \"PREDICTIONS\" FROM (SELECT a.* FROM #PAL_PARTITION_DATA_TBL_27A985B6_5736_11EB_9A41_D43B0469E0D7 a inner join #PAL_PARTITION_RESULT_TBL_27A985B6_5736_11EB_9A41_D43B0469E0D7 b        on a.\"CAR_ID\" = b.\"CAR_ID\" where b.\"PARTITION_TYPE\" = 2) AS \"L\" INNER JOIN (SELECT * FROM \"#PAL_DECISION_TREE_RESULT_TBL_1_2C7FC880_5736_11EB_8252_D43B0469E0D7\") AS \"R\" ON L.CAR_ID = R.CAR_ID'"
      ]
     },
     "execution_count": 15,
     "metadata": {},
     "output_type": "execute_result"
    }
   ],
   "source": [
    "df_remote_act_pred.select_statement"
   ]
  },
  {
   "cell_type": "markdown",
   "metadata": {},
   "source": [
    "Assess the performance of the model on the unseen test data with the Root Mean Squared Error (RMSE). Again, the heavy calculations are done within SAP HANA. The RMSE can be understood as an \"average\" mistake in the unit of the target column. So the model was roughly off by 3500 Euros per vehicle."
   ]
  },
  {
   "cell_type": "code",
   "execution_count": 16,
   "metadata": {},
   "outputs": [
    {
     "name": "stdout",
     "output_type": "stream",
     "text": [
      "RMSE: 3537.11\n"
     ]
    }
   ],
   "source": [
    "import numpy as np\n",
    "df_remote_se = df_remote_act_pred.select('CAR_ID',\n",
    "                                         'MODEL',\n",
    "                                         'ACTUALS',\n",
    "                                         'PREDICTIONS',\n",
    "                                         ('(ACTUALS - PREDICTIONS) * (ACTUALS - PREDICTIONS) ', 'ERRORSQ'))\n",
    "df_mse = df_remote_se.agg([('avg', 'ERRORSQ', 'MSE')]).collect()\n",
    "rmse = np.sqrt(float(df_mse.iloc[0:,0]))\n",
    "print('RMSE: ' + str(round(rmse, 2)))"
   ]
  },
  {
   "cell_type": "markdown",
   "metadata": {},
   "source": [
    "### Hyperparameter tuning\n",
    "Try out different combinations of model parameters in the hope of finding a stronger model. For each model that is trained, the RMSE is calculated and kept for later analysis."
   ]
  },
  {
   "cell_type": "code",
   "execution_count": 17,
   "metadata": {},
   "outputs": [],
   "source": [
    "min_records_of_parent = [1, 2, 3, 4, 5, 7, 10]\n",
    "min_records_of_leaf = [1, 2, 3, 5]"
   ]
  },
  {
   "cell_type": "markdown",
   "metadata": {},
   "source": [
    "Install the sklearn library that will be needed to calculate the quality indicator of the model, the Room Mean Squared Error. \n",
    "<BR>Once the library is installed, the command can be de-activated by adding a # in front. This character turns the code into a comment."
   ]
  },
  {
   "cell_type": "code",
   "execution_count": 18,
   "metadata": {},
   "outputs": [
    {
     "name": "stdout",
     "output_type": "stream",
     "text": [
      "Requirement already satisfied: sklearn in c:\\users\\i056450\\anaconda3\\lib\\site-packages (0.0)\n",
      "Requirement already satisfied: scikit-learn in c:\\users\\i056450\\anaconda3\\lib\\site-packages (from sklearn) (0.23.2)\n",
      "Requirement already satisfied: threadpoolctl>=2.0.0 in c:\\users\\i056450\\anaconda3\\lib\\site-packages (from scikit-learn->sklearn) (2.1.0)\n",
      "Requirement already satisfied: numpy>=1.13.3 in c:\\users\\i056450\\anaconda3\\lib\\site-packages (from scikit-learn->sklearn) (1.19.1)\n",
      "Requirement already satisfied: scipy>=0.19.1 in c:\\users\\i056450\\anaconda3\\lib\\site-packages (from scikit-learn->sklearn) (1.5.3)\n",
      "Requirement already satisfied: joblib>=0.11 in c:\\users\\i056450\\anaconda3\\lib\\site-packages (from scikit-learn->sklearn) (0.17.0)\n"
     ]
    }
   ],
   "source": [
    "!pip install sklearn"
   ]
  },
  {
   "cell_type": "code",
   "execution_count": 19,
   "metadata": {},
   "outputs": [
    {
     "name": "stdout",
     "output_type": "stream",
     "text": [
      "min_records_of_parent:  1  | min_records_of_leaf:  1\n",
      "RMSE on test data: 3591.83\n",
      "\n",
      "min_records_of_parent:  1  | min_records_of_leaf:  2\n",
      "RMSE on test data: 3497.65\n",
      "\n",
      "min_records_of_parent:  1  | min_records_of_leaf:  3\n",
      "RMSE on test data: 3449.46\n",
      "\n",
      "min_records_of_parent:  1  | min_records_of_leaf:  5\n",
      "RMSE on test data: 3408.44\n",
      "\n",
      "min_records_of_parent:  2  | min_records_of_leaf:  1\n",
      "RMSE on test data: 3591.83\n",
      "\n",
      "min_records_of_parent:  2  | min_records_of_leaf:  2\n",
      "RMSE on test data: 3497.65\n",
      "\n",
      "min_records_of_parent:  2  | min_records_of_leaf:  3\n",
      "RMSE on test data: 3449.46\n",
      "\n",
      "min_records_of_parent:  2  | min_records_of_leaf:  5\n",
      "RMSE on test data: 3408.44\n",
      "\n",
      "min_records_of_parent:  3  | min_records_of_leaf:  1\n",
      "RMSE on test data: 3601.37\n",
      "\n",
      "min_records_of_parent:  3  | min_records_of_leaf:  2\n",
      "RMSE on test data: 3497.65\n",
      "\n",
      "min_records_of_parent:  3  | min_records_of_leaf:  3\n",
      "RMSE on test data: 3449.46\n",
      "\n",
      "min_records_of_parent:  3  | min_records_of_leaf:  5\n",
      "RMSE on test data: 3408.44\n",
      "\n",
      "min_records_of_parent:  4  | min_records_of_leaf:  1\n",
      "RMSE on test data: 3585.07\n",
      "\n",
      "min_records_of_parent:  4  | min_records_of_leaf:  2\n",
      "RMSE on test data: 3497.65\n",
      "\n",
      "min_records_of_parent:  4  | min_records_of_leaf:  3\n",
      "RMSE on test data: 3449.46\n",
      "\n",
      "min_records_of_parent:  4  | min_records_of_leaf:  5\n",
      "RMSE on test data: 3408.44\n",
      "\n",
      "min_records_of_parent:  5  | min_records_of_leaf:  1\n",
      "RMSE on test data: 3569.24\n",
      "\n",
      "min_records_of_parent:  5  | min_records_of_leaf:  2\n",
      "RMSE on test data: 3483.82\n",
      "\n",
      "min_records_of_parent:  5  | min_records_of_leaf:  3\n",
      "RMSE on test data: 3449.46\n",
      "\n",
      "min_records_of_parent:  5  | min_records_of_leaf:  5\n",
      "RMSE on test data: 3408.44\n",
      "\n",
      "min_records_of_parent:  7  | min_records_of_leaf:  1\n",
      "RMSE on test data: 3544.12\n",
      "\n",
      "min_records_of_parent:  7  | min_records_of_leaf:  2\n",
      "RMSE on test data: 3482.12\n",
      "\n",
      "min_records_of_parent:  7  | min_records_of_leaf:  3\n",
      "RMSE on test data: 3451.02\n",
      "\n",
      "min_records_of_parent:  7  | min_records_of_leaf:  5\n",
      "RMSE on test data: 3408.44\n",
      "\n",
      "min_records_of_parent:  10  | min_records_of_leaf:  1\n",
      "RMSE on test data: 3537.11\n",
      "\n",
      "min_records_of_parent:  10  | min_records_of_leaf:  2\n",
      "RMSE on test data: 3479.26\n",
      "\n",
      "min_records_of_parent:  10  | min_records_of_leaf:  3\n",
      "RMSE on test data: 3448.07\n",
      "\n",
      "min_records_of_parent:  10  | min_records_of_leaf:  5\n",
      "RMSE on test data: 3408.44\n",
      "\n",
      "Done\n"
     ]
    }
   ],
   "source": [
    "import pandas as pd\n",
    "from math import sqrt\n",
    "from sklearn.metrics import mean_squared_error\n",
    "\n",
    "# Dataframe to store hyperparameters with model quality\n",
    "df_hyper_quality = pd.DataFrame(columns=['MIN_RECORDS_OF_PARENT', 'MIN_RECORDS_OF_LEAF', 'RMSE'])\n",
    "\n",
    "# Iterate through all combinations\n",
    "from hana_ml.algorithms.pal import trees\n",
    "for aa in min_records_of_parent:\n",
    "    for bb in min_records_of_leaf:\n",
    "        tree_reg = trees.DecisionTreeRegressor(algorithm = 'cart',\n",
    "                                               min_records_of_parent = aa,\n",
    "                                               min_records_of_leaf = bb,\n",
    "                                               thread_ratio = 0.4,\n",
    "                                               split_threshold = 1e-5,\n",
    "                                               model_format = 'json',\n",
    "                                               output_rules = True)\n",
    "\n",
    "        # Train the tree\n",
    "        tree_reg.fit(data = df_remote_train, \n",
    "                     features = features, \n",
    "                     key = \"CAR_ID\", \n",
    "                     label = 'PRICE')\n",
    "\n",
    "        print('min_records_of_parent: ', aa, ' | min_records_of_leaf: ', bb)\n",
    "        \n",
    "        df_remote_act_pred = df_remote_test.alias('L').join(\n",
    "            tree_reg.predict(data = df_remote_test, features = features, key = 'CAR_ID').alias('R'),\n",
    "            'L.CAR_ID = R.CAR_ID', \n",
    "            select=[('L.CAR_ID', 'CAR_ID'), ('PRICE','ACTUALS'), ('\"SCORE\"', 'PREDICTIONS')])\n",
    "        df_act_pred = df_remote_act_pred.select('ACTUALS', 'PREDICTIONS').collect()\n",
    "        rmse = sqrt(mean_squared_error(df_act_pred.loc[:,'ACTUALS'], df_act_pred.loc[:,'PREDICTIONS']))\n",
    "        print('RMSE on test data: ' + str(round(rmse, 2)))\n",
    "        print()\n",
    "        \n",
    "        # Add to hyperparameter store\n",
    "        df_hyper_quality = df_hyper_quality.append({'MIN_RECORDS_OF_PARENT': aa,\n",
    "                                                    'MIN_RECORDS_OF_LEAF': bb,\n",
    "                                                    'RMSE': rmse},\n",
    "                                                    ignore_index = True)\n",
    "        \n",
    "print('Done')"
   ]
  },
  {
   "cell_type": "markdown",
   "metadata": {},
   "source": [
    "### Model quality by hyperparameters\n",
    "Display the models with the lowest RMSE."
   ]
  },
  {
   "cell_type": "code",
   "execution_count": 20,
   "metadata": {},
   "outputs": [
    {
     "data": {
      "text/html": [
       "<div>\n",
       "<style scoped>\n",
       "    .dataframe tbody tr th:only-of-type {\n",
       "        vertical-align: middle;\n",
       "    }\n",
       "\n",
       "    .dataframe tbody tr th {\n",
       "        vertical-align: top;\n",
       "    }\n",
       "\n",
       "    .dataframe thead th {\n",
       "        text-align: right;\n",
       "    }\n",
       "</style>\n",
       "<table border=\"1\" class=\"dataframe\">\n",
       "  <thead>\n",
       "    <tr style=\"text-align: right;\">\n",
       "      <th></th>\n",
       "      <th>MIN_RECORDS_OF_PARENT</th>\n",
       "      <th>MIN_RECORDS_OF_LEAF</th>\n",
       "      <th>RMSE</th>\n",
       "    </tr>\n",
       "  </thead>\n",
       "  <tbody>\n",
       "    <tr>\n",
       "      <th>27</th>\n",
       "      <td>10</td>\n",
       "      <td>5</td>\n",
       "      <td>3408.440068</td>\n",
       "    </tr>\n",
       "    <tr>\n",
       "      <th>3</th>\n",
       "      <td>1</td>\n",
       "      <td>5</td>\n",
       "      <td>3408.440068</td>\n",
       "    </tr>\n",
       "    <tr>\n",
       "      <th>23</th>\n",
       "      <td>7</td>\n",
       "      <td>5</td>\n",
       "      <td>3408.440068</td>\n",
       "    </tr>\n",
       "    <tr>\n",
       "      <th>7</th>\n",
       "      <td>2</td>\n",
       "      <td>5</td>\n",
       "      <td>3408.440068</td>\n",
       "    </tr>\n",
       "    <tr>\n",
       "      <th>15</th>\n",
       "      <td>4</td>\n",
       "      <td>5</td>\n",
       "      <td>3408.440068</td>\n",
       "    </tr>\n",
       "    <tr>\n",
       "      <th>19</th>\n",
       "      <td>5</td>\n",
       "      <td>5</td>\n",
       "      <td>3408.440068</td>\n",
       "    </tr>\n",
       "    <tr>\n",
       "      <th>11</th>\n",
       "      <td>3</td>\n",
       "      <td>5</td>\n",
       "      <td>3408.440068</td>\n",
       "    </tr>\n",
       "    <tr>\n",
       "      <th>26</th>\n",
       "      <td>10</td>\n",
       "      <td>3</td>\n",
       "      <td>3448.069412</td>\n",
       "    </tr>\n",
       "    <tr>\n",
       "      <th>2</th>\n",
       "      <td>1</td>\n",
       "      <td>3</td>\n",
       "      <td>3449.460618</td>\n",
       "    </tr>\n",
       "    <tr>\n",
       "      <th>6</th>\n",
       "      <td>2</td>\n",
       "      <td>3</td>\n",
       "      <td>3449.460618</td>\n",
       "    </tr>\n",
       "  </tbody>\n",
       "</table>\n",
       "</div>"
      ],
      "text/plain": [
       "    MIN_RECORDS_OF_PARENT  MIN_RECORDS_OF_LEAF         RMSE\n",
       "27                     10                    5  3408.440068\n",
       "3                       1                    5  3408.440068\n",
       "23                      7                    5  3408.440068\n",
       "7                       2                    5  3408.440068\n",
       "15                      4                    5  3408.440068\n",
       "19                      5                    5  3408.440068\n",
       "11                      3                    5  3408.440068\n",
       "26                     10                    3  3448.069412\n",
       "2                       1                    3  3449.460618\n",
       "6                       2                    3  3449.460618"
      ]
     },
     "execution_count": 20,
     "metadata": {},
     "output_type": "execute_result"
    }
   ],
   "source": [
    "df_hyper_quality['MIN_RECORDS_OF_PARENT'] = df_hyper_quality['MIN_RECORDS_OF_PARENT'].astype(int)\n",
    "df_hyper_quality['MIN_RECORDS_OF_LEAF'] = df_hyper_quality['MIN_RECORDS_OF_LEAF'].astype(int)\n",
    "df_hyper_quality.sort_values(by = 'RMSE', ascending = True).head(10)"
   ]
  },
  {
   "cell_type": "markdown",
   "metadata": {},
   "source": [
    "Plot the RMSE of the different models and their parameters to understand which areas of hyperparameters were most promising."
   ]
  },
  {
   "cell_type": "code",
   "execution_count": 21,
   "metadata": {},
   "outputs": [],
   "source": [
    "df_hyper_matrix = df_hyper_quality.pivot(index = 'MIN_RECORDS_OF_PARENT', \n",
    "                                         columns = 'MIN_RECORDS_OF_LEAF', \n",
    "                                         values = 'RMSE')\n",
    "df_hyper_matrix = df_hyper_matrix.sort_index(axis = 0, ascending = False)"
   ]
  },
  {
   "cell_type": "code",
   "execution_count": 22,
   "metadata": {},
   "outputs": [
    {
     "data": {
      "image/png": "[encoded data removed]",
      "text/plain": [
       "<Figure size 432x288 with 2 Axes>"
      ]
     },
     "metadata": {
      "needs_background": "light"
     },
     "output_type": "display_data"
    }
   ],
   "source": [
    "%matplotlib inline\n",
    "import seaborn as sns\n",
    "import matplotlib \n",
    "traffic_light = matplotlib.colors.LinearSegmentedColormap.from_list('', ['green', 'yellow', 'red'])\n",
    "sns.heatmap(data = df_hyper_matrix, cmap = traffic_light, linewidths = .5, \n",
    "           robust = True, annot = True, fmt = \".1f\", xticklabels = df_hyper_matrix.columns.values.round(2));"
   ]
  },
  {
   "cell_type": "markdown",
   "metadata": {},
   "source": [
    "Models with MIN_RECORDS_OF_LEAF equal to 5 performed well. You could try testing models with larger values of MIN_RECORDS_OF_PARENT to get an even better model.\n",
    "<BR><BR>In this project however, we are satisfied for now with the lowest RMSE that was found (MIN_RECORDS_OF_PARENT = 10 and MIN_RECORDS_OF_LEAF = 5). We recreate that model and continue the project with it."
   ]
  },
  {
   "cell_type": "code",
   "execution_count": 23,
   "metadata": {},
   "outputs": [],
   "source": [
    "from hana_ml.algorithms.pal import trees\n",
    "tree_reg = trees.DecisionTreeRegressor(algorithm = 'cart',\n",
    "                                       min_records_of_parent= 10,\n",
    "                                       min_records_of_leaf = 5,\n",
    "                                       thread_ratio = 0.4,\n",
    "                                       split_threshold = 1e-5,\n",
    "                                       model_format = 'json',\n",
    "                                       output_rules = True)\n",
    "\n",
    "# Specify the tree's predictors\n",
    "features = ['GEARBOX', 'VEHICLETYPE', 'YEAR', 'MODEL', 'HP', 'FUELTYPE', 'KILOMETER']\n",
    "\n",
    "# Train the tree\n",
    "tree_reg.fit(data = df_remote_train,\n",
    "             key = 'CAR_ID',\n",
    "             label = 'PRICE',\n",
    "             features = features)"
   ]
  },
  {
   "cell_type": "markdown",
   "metadata": {},
   "source": [
    "Verify that the model was created correctly. You should obtain the same RMSE as shown in the above plot."
   ]
  },
  {
   "cell_type": "code",
   "execution_count": 24,
   "metadata": {},
   "outputs": [],
   "source": [
    "df_remote_act_pred = df_remote_test.alias('L').join(\n",
    "    tree_reg.predict(data = df_remote_test, features = features, key = 'CAR_ID').alias('R'),\n",
    "    'L.CAR_ID = R.CAR_ID', \n",
    "    select=[('L.CAR_ID', 'CAR_ID'), 'MODEL', ('PRICE','ACTUALS'), ('SCORE', 'PREDICTIONS')])"
   ]
  },
  {
   "cell_type": "code",
   "execution_count": 25,
   "metadata": {},
   "outputs": [
    {
     "name": "stdout",
     "output_type": "stream",
     "text": [
      "RMSE: 3408.44\n"
     ]
    }
   ],
   "source": [
    "df_remote_se = df_remote_act_pred.select('CAR_ID',\n",
    "                                         'MODEL', \n",
    "                                         'ACTUALS', \n",
    "                                         'PREDICTIONS', \n",
    "                                         ('(ACTUALS - PREDICTIONS) * (ACTUALS - PREDICTIONS) ', 'ERRORSQ'))\n",
    "df_mse = df_remote_se.agg([('avg', 'ERRORSQ', 'MSE')]).collect()\n",
    "rmse = np.sqrt(float(df_mse.iloc[0:,0]))\n",
    "print('RMSE: ' + str(round(rmse, 2)))"
   ]
  },
  {
   "cell_type": "markdown",
   "metadata": {},
   "source": [
    "### Error Analysis\n",
    "Now that we have decided on the Machine Learning model, we want to understand more about the model. Analyse for the different car models, in which areas the trained model performed best, and in which areas the model did not fit well. Calculate the RMSE by car model."
   ]
  },
  {
   "cell_type": "code",
   "execution_count": 26,
   "metadata": {},
   "outputs": [
    {
     "data": {
      "text/html": [
       "<div>\n",
       "<style scoped>\n",
       "    .dataframe tbody tr th:only-of-type {\n",
       "        vertical-align: middle;\n",
       "    }\n",
       "\n",
       "    .dataframe tbody tr th {\n",
       "        vertical-align: top;\n",
       "    }\n",
       "\n",
       "    .dataframe thead th {\n",
       "        text-align: right;\n",
       "    }\n",
       "</style>\n",
       "<table border=\"1\" class=\"dataframe\">\n",
       "  <thead>\n",
       "    <tr style=\"text-align: right;\">\n",
       "      <th></th>\n",
       "      <th>MODEL</th>\n",
       "      <th>MSE</th>\n",
       "      <th>RMSE</th>\n",
       "    </tr>\n",
       "  </thead>\n",
       "  <tbody>\n",
       "    <tr>\n",
       "      <th>17</th>\n",
       "      <td>G-Class</td>\n",
       "      <td>2.532448e+08</td>\n",
       "      <td>15913.665776</td>\n",
       "    </tr>\n",
       "    <tr>\n",
       "      <th>16</th>\n",
       "      <td>SL</td>\n",
       "      <td>5.724753e+07</td>\n",
       "      <td>7566.209979</td>\n",
       "    </tr>\n",
       "    <tr>\n",
       "      <th>15</th>\n",
       "      <td>CL</td>\n",
       "      <td>3.983016e+07</td>\n",
       "      <td>6311.114087</td>\n",
       "    </tr>\n",
       "    <tr>\n",
       "      <th>8</th>\n",
       "      <td>V-Class</td>\n",
       "      <td>2.896404e+07</td>\n",
       "      <td>5381.824887</td>\n",
       "    </tr>\n",
       "    <tr>\n",
       "      <th>14</th>\n",
       "      <td>GL</td>\n",
       "      <td>2.278882e+07</td>\n",
       "      <td>4773.763395</td>\n",
       "    </tr>\n",
       "    <tr>\n",
       "      <th>13</th>\n",
       "      <td>Vito</td>\n",
       "      <td>2.212869e+07</td>\n",
       "      <td>4704.113847</td>\n",
       "    </tr>\n",
       "    <tr>\n",
       "      <th>7</th>\n",
       "      <td>Viano</td>\n",
       "      <td>2.075093e+07</td>\n",
       "      <td>4555.318407</td>\n",
       "    </tr>\n",
       "    <tr>\n",
       "      <th>11</th>\n",
       "      <td>GLK</td>\n",
       "      <td>1.921506e+07</td>\n",
       "      <td>4383.499160</td>\n",
       "    </tr>\n",
       "    <tr>\n",
       "      <th>6</th>\n",
       "      <td>Other</td>\n",
       "      <td>1.889265e+07</td>\n",
       "      <td>4346.567847</td>\n",
       "    </tr>\n",
       "    <tr>\n",
       "      <th>5</th>\n",
       "      <td>M-Class</td>\n",
       "      <td>1.676924e+07</td>\n",
       "      <td>4095.026066</td>\n",
       "    </tr>\n",
       "    <tr>\n",
       "      <th>12</th>\n",
       "      <td>S-Class</td>\n",
       "      <td>1.625571e+07</td>\n",
       "      <td>4031.837375</td>\n",
       "    </tr>\n",
       "    <tr>\n",
       "      <th>2</th>\n",
       "      <td>Sprinter</td>\n",
       "      <td>1.484764e+07</td>\n",
       "      <td>3853.264132</td>\n",
       "    </tr>\n",
       "    <tr>\n",
       "      <th>1</th>\n",
       "      <td>E-Class</td>\n",
       "      <td>1.055139e+07</td>\n",
       "      <td>3248.290795</td>\n",
       "    </tr>\n",
       "    <tr>\n",
       "      <th>0</th>\n",
       "      <td>C-Class</td>\n",
       "      <td>8.357640e+06</td>\n",
       "      <td>2890.958336</td>\n",
       "    </tr>\n",
       "    <tr>\n",
       "      <th>10</th>\n",
       "      <td>CLK</td>\n",
       "      <td>7.715001e+06</td>\n",
       "      <td>2777.589115</td>\n",
       "    </tr>\n",
       "    <tr>\n",
       "      <th>3</th>\n",
       "      <td>SLK</td>\n",
       "      <td>7.505871e+06</td>\n",
       "      <td>2739.684411</td>\n",
       "    </tr>\n",
       "    <tr>\n",
       "      <th>4</th>\n",
       "      <td>A-Class</td>\n",
       "      <td>4.243265e+06</td>\n",
       "      <td>2059.918570</td>\n",
       "    </tr>\n",
       "    <tr>\n",
       "      <th>9</th>\n",
       "      <td>B-Class</td>\n",
       "      <td>3.856382e+06</td>\n",
       "      <td>1963.767231</td>\n",
       "    </tr>\n",
       "  </tbody>\n",
       "</table>\n",
       "</div>"
      ],
      "text/plain": [
       "       MODEL           MSE          RMSE\n",
       "17   G-Class  2.532448e+08  15913.665776\n",
       "16        SL  5.724753e+07   7566.209979\n",
       "15        CL  3.983016e+07   6311.114087\n",
       "8    V-Class  2.896404e+07   5381.824887\n",
       "14        GL  2.278882e+07   4773.763395\n",
       "13      Vito  2.212869e+07   4704.113847\n",
       "7      Viano  2.075093e+07   4555.318407\n",
       "11       GLK  1.921506e+07   4383.499160\n",
       "6      Other  1.889265e+07   4346.567847\n",
       "5    M-Class  1.676924e+07   4095.026066\n",
       "12   S-Class  1.625571e+07   4031.837375\n",
       "2   Sprinter  1.484764e+07   3853.264132\n",
       "1    E-Class  1.055139e+07   3248.290795\n",
       "0    C-Class  8.357640e+06   2890.958336\n",
       "10       CLK  7.715001e+06   2777.589115\n",
       "3        SLK  7.505871e+06   2739.684411\n",
       "4    A-Class  4.243265e+06   2059.918570\n",
       "9    B-Class  3.856382e+06   1963.767231"
      ]
     },
     "execution_count": 26,
     "metadata": {},
     "output_type": "execute_result"
    }
   ],
   "source": [
    "df_mse = df_remote_se.agg([('avg', 'ERRORSQ', 'MSE')], group_by = ['MODEL']).collect()\n",
    "df_mse['RMSE'] = np.sqrt(df_mse['MSE'])\n",
    "df_mse.sort_values(by = ['RMSE'], ascending = False)"
   ]
  },
  {
   "cell_type": "markdown",
   "metadata": {},
   "source": [
    "Not surprisingly, the model did perform best on the cars that are genereally priced lower. The model did best on the A-Class for example, which is an entry level vehicle. The RMSE is highest on the G-Class, which is at the more expensive end. If the car is generally more expensive, then a quality indicator of the Machine Learning model that is based on absolute Euro difference, is likely to be larger. You could decide to create a separate model for the G-Class. In this project we are statisfied with the model though."
   ]
  },
  {
   "cell_type": "markdown",
   "metadata": {},
   "source": [
    "### Save model to SAP HANA table"
   ]
  },
  {
   "cell_type": "markdown",
   "metadata": {},
   "source": [
    "Save the model to make it available for subsequent processes to estimate the price of further vehicles. The model is saved into a SAP HANA table. "
   ]
  },
  {
   "cell_type": "code",
   "execution_count": 27,
   "metadata": {},
   "outputs": [],
   "source": [
    "from hana_ml.model_storage import ModelStorage\n",
    "model_storage = ModelStorage(connection_context=conn)\n",
    "tree_reg.name = 'USEDCARPRICES_MODEL_REGTREE'\n",
    "model_storage.save_model(model = tree_reg, if_exists = 'replace')"
   ]
  },
  {
   "cell_type": "markdown",
   "metadata": {},
   "source": [
    "### Close connection"
   ]
  },
  {
   "cell_type": "code",
   "execution_count": 28,
   "metadata": {},
   "outputs": [],
   "source": [
    "conn.close()"
   ]
  },
  {
   "cell_type": "code",
   "execution_count": null,
   "metadata": {},
   "outputs": [],
   "source": []
  }
 ],
 "metadata": {
  "createdAt": "2019-05-03T17:24:45Z",
  "description": "Train predictive model on the price of a car.",
  "kernelspec": {
   "display_name": "Python 3",
   "language": "python",
   "name": "python3"
  },
  "language_info": {
   "codemirror_mode": {
    "name": "ipython",
    "version": 3
   },
   "file_extension": ".py",
   "mimetype": "text/x-python",
   "name": "python",
   "nbconvert_exporter": "python",
   "pygments_lexer": "ipython3",
   "version": "3.7.6"
  },
  "modifiedAt": "2019-05-03T17:24:45Z",
  "name": "30 Train Pricing Model",
  "rating": 0,
  "scenarioId": "3bd5ee44-92b1-4224-95dc-4e688a637e85"
 },
 "nbformat": 4,
 "nbformat_minor": 4
}
