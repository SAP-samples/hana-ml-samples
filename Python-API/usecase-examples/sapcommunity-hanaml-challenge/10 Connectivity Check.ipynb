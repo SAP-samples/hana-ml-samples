{
 "cells": [
  {
   "cell_type": "markdown",
   "metadata": {},
   "source": [
    "# Python & HANA ML Check\n",
    "This Notebooks installs the required library to connect to SAP HANA Cloud under SAP Data Warehouse Cloud and tests the connectivity."
   ]
  },
  {
   "cell_type": "markdown",
   "metadata": {},
   "source": [
    "### Documentation\n",
    "-  SAP HANA Python Client API for Machine Learning Algorithms:\n",
    "   https://pypi.org/project/hana-ml/\n",
    "\n",
    "-  SAP HANA Automated Predictive Library (APL):  \n",
    "   https://help.sap.com/doc/1d0ebfe5e8dd44d09606814d83308d4b/2.0.06/en-US/hana_ml.algorithms.apl.html\n",
    "   \n",
    "-  SAP HANA Predictive Analysis Library (PAL):\n",
    "   https://help.sap.com/doc/1d0ebfe5e8dd44d09606814d83308d4b/2.0.06/en-US/hana_ml.algorithms.pal.html\n",
    "   \n",
    "-  Package Dependencies: \n",
    "   https://help.sap.com/doc/1d0ebfe5e8dd44d09606814d83308d4b/2.0.06/en-US/Installation.html\n",
    "   \n",
    "-  Examples: \n",
    "   https://github.com/SAP-samples/hana-ml-samples/tree/main/Python-API/pal/notebooks"
   ]
  },
  {
   "cell_type": "markdown",
   "metadata": {},
   "source": [
    "### SAP HANA ML Library\n",
    "You will be using the 'SAP HANA Python Client API for Machine Learning Algorithm'. Begin by ensuring that you have the correct version available."
   ]
  },
  {
   "cell_type": "code",
   "execution_count": null,
   "metadata": {},
   "outputs": [],
   "source": [
    "import hana_ml\n",
    "print(hana_ml.__version__)"
   ]
  },
  {
   "cell_type": "markdown",
   "metadata": {},
   "source": [
    "<font color='red'>In case you have an oldder version than 2.14.22102800, run the following cell to upgrade the library.<BR>Running this cell, even if you have already that version installed, does <u>not</u> do any harm.</font> "
   ]
  },
  {
   "cell_type": "code",
   "execution_count": null,
   "metadata": {},
   "outputs": [],
   "source": [
    "!pip install hana-ml==2.14.22102800\n",
    "!pip install shapely"
   ]
  },
  {
   "cell_type": "markdown",
   "metadata": {},
   "source": [
    "<font color='red'>After upgrading the library you have to restart the Kernel to ensure the new version is loaded in your current session. <BR>In the Jupyter Lab menu go into \"Kernel\" -> \"Restart Kernel...\". <BR>Once the Kernel has been restarted, continue with the next cell.</font> "
   ]
  },
  {
   "cell_type": "code",
   "execution_count": null,
   "metadata": {},
   "outputs": [],
   "source": [
    "import hana_ml\n",
    "print(hana_ml.__version__)"
   ]
  },
  {
   "cell_type": "markdown",
   "metadata": {},
   "source": [
    "### Test connection to SAP HANA\n",
    "Establish a connection to the SAP HANA system and send a statement to verify the connection is working as expected. For simplicity you will use the user name and password in clear text. Fore a more realistic and secure approach it is possible to leverage credentials that are safely kept in the Secure User Store from the SAP HANA client, as described in the following blog: https://blogs.sap.com/2020/07/27/hands-on-tutorial-automated-predictive-apl-in-sap-hana-cloud/"
   ]
  },
  {
   "cell_type": "markdown",
   "metadata": {},
   "source": [
    "<font color='red'>You must update these logon credentials as provided to you by your workshop host.</font>"
   ]
  },
  {
   "cell_type": "code",
   "execution_count": null,
   "metadata": {},
   "outputs": [],
   "source": [
    "hana_address = '>YOURHORSTNAME>' \n",
    "hana_port = 443 # Adjust if needed / as advised\n",
    "hana_user = 'YOURUSERNAME' \n",
    "hana_password = 'YOURPASSWORD' \n",
    "hana_encrypt = 'true' # Adjust if needed / as advised\n",
    "\n",
    "import hana_ml.dataframe as dataframe\n",
    "\n",
    "# Instantiate connection object\n",
    "conn = dataframe.ConnectionContext(address = hana_address,\n",
    "                                   port = hana_port, \n",
    "                                   user = hana_user, \n",
    "                                   password = hana_password, \n",
    "                                   encrypt = hana_encrypt,\n",
    "                                   sslValidateCertificate = 'false' \n",
    "                                  )\n",
    "\n",
    "\n",
    "# Control connection\n",
    "conn.connection.isconnected()"
   ]
  },
  {
   "cell_type": "markdown",
   "metadata": {},
   "source": [
    "The above cell should execute without error and display the value True."
   ]
  },
  {
   "cell_type": "markdown",
   "metadata": {},
   "source": [
    "Close the connection."
   ]
  },
  {
   "cell_type": "code",
   "execution_count": null,
   "metadata": {},
   "outputs": [],
   "source": [
    "conn.close()"
   ]
  }
 ],
 "metadata": {
  "kernelspec": {
   "display_name": "Python 3",
   "language": "python",
   "name": "python3"
  },
  "language_info": {
   "codemirror_mode": {
    "name": "ipython",
    "version": 3
   },
   "file_extension": ".py",
   "mimetype": "text/x-python",
   "name": "python",
   "nbconvert_exporter": "python",
   "pygments_lexer": "ipython3",
   "version": "3.6.12"
  }
 },
 "nbformat": 4,
 "nbformat_minor": 4
}
