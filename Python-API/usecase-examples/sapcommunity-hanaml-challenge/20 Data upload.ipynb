{
 "cells": [
  {
   "cell_type": "markdown",
   "metadata": {},
   "source": [
    "# Notebook - Data Upload\n",
    "This Notebooks transforms and uploads the  data to SAP HANA."
   ]
  },
  {
   "cell_type": "markdown",
   "metadata": {},
   "source": [
    "### Documentation\n",
    "-  SAP HANA Python Client API for Machine Learning Algorithms:\n",
    "   https://pypi.org/project/hana-ml/\n",
    "\n",
    "-  SAP HANA Automated Predictive Library (APL):  \n",
    "   https://help.sap.com/doc/1d0ebfe5e8dd44d09606814d83308d4b/2.0.06/en-US/hana_ml.algorithms.apl.html\n",
    "   \n",
    "-  SAP HANA Predictive Analysis Library (PAL):\n",
    "   https://help.sap.com/doc/1d0ebfe5e8dd44d09606814d83308d4b/2.0.06/en-US/hana_ml.algorithms.pal.html\n",
    "   \n",
    "-  Package Dependencies: \n",
    "   https://help.sap.com/doc/1d0ebfe5e8dd44d09606814d83308d4b/2.0.06/en-US/Installation.html\n",
    "   \n",
    "-  Examples: \n",
    "   https://github.com/SAP-samples/hana-ml-samples/tree/main/Python-API/pal/notebooks"
   ]
  },
  {
   "cell_type": "markdown",
   "metadata": {},
   "source": [
    "### SAP HANA ML Library\n",
    "You will be using the 'SAP HANA Python Client API for Machine Learning Algorithm'. See the notebook \"10 Connectivity Check\" that you are using the approviate version of that package."
   ]
  },
  {
   "cell_type": "code",
   "execution_count": null,
   "metadata": {},
   "outputs": [],
   "source": [
    "import hana_ml\n",
    "print(hana_ml.__version__)"
   ]
  },
  {
   "cell_type": "markdown",
   "metadata": {},
   "source": [
    "### Load the CSV file into a Python object (Pandas DataFrame)"
   ]
  },
  {
   "cell_type": "markdown",
   "metadata": {},
   "source": [
    "<font color='red'>You must update the path to the file on your environment</font>"
   ]
  },
  {
   "cell_type": "code",
   "execution_count": null,
   "metadata": {},
   "outputs": [],
   "source": [
    "import pandas as pd\n",
    "df_data = pd.read_csv(r'<YourPath>\\<YourCSVFile>.csv', sep = ',')\n",
    "df_data.head(5)"
   ]
  },
  {
   "cell_type": "markdown",
   "metadata": {},
   "source": [
    "### Transform the data\n",
    "Before uploading the data to SAP HANA Cloud, carry out a few transformations. Turn the column headers into upper case."
   ]
  },
  {
   "cell_type": "code",
   "execution_count": null,
   "metadata": {},
   "outputs": [],
   "source": [
    "df_data.columns = map(str.upper, df_data.columns)\n",
    "df_data.head(5)"
   ]
  },
  {
   "cell_type": "markdown",
   "metadata": {},
   "source": [
    "### Upload the data to SAP HANA\n",
    "We are happy with the data, so upload it to SAP HANA. Establish a connection with the hana_ml wrapper…"
   ]
  },
  {
   "cell_type": "markdown",
   "metadata": {},
   "source": [
    "<font color='red'>You must update these logon credentials as provided to you by your workshop host.</font>"
   ]
  },
  {
   "cell_type": "code",
   "execution_count": null,
   "metadata": {},
   "outputs": [],
   "source": [
    "hana_address = '>YOURHORSTNAME>' \n",
    "hana_port = 443 # Adjust if needed / as advised\n",
    "hana_user = 'YOURUSERNAME' \n",
    "hana_password = 'YOURPASSWORD' \n",
    "hana_encrypt = 'true' # Adjust if needed / as advised\n",
    "\n",
    "import hana_ml.dataframe as dataframe\n",
    "\n",
    "# Instantiate connection object\n",
    "conn = dataframe.ConnectionContext(address = hana_address,\n",
    "                                   port = 443, \n",
    "                                   user = hana_user, \n",
    "                                   password = hana_password, \n",
    "                                   encrypt = hana_encrypt,\n",
    "                                   sslValidateCertificate = 'false' \n",
    "                                  )\n",
    "\n",
    "\n",
    "# Control connection\n",
    "conn.connection.isconnected()"
   ]
  },
  {
   "cell_type": "markdown",
   "metadata": {
    "tags": []
   },
   "source": [
    "...and upload the Pandas DataFrame into a table called after your Username. "
   ]
  },
  {
   "cell_type": "code",
   "execution_count": null,
   "metadata": {},
   "outputs": [],
   "source": [
    "df_remote = dataframe.create_dataframe_from_pandas(connection_context = conn, \n",
    "                                                   pandas_df = df_data, \n",
    "                                                   table_name = '<YOURTABLENAME>',\n",
    "                                                   force = True,\n",
    "                                                   replace = False)"
   ]
  },
  {
   "cell_type": "markdown",
   "metadata": {},
   "source": [
    "Close the connection."
   ]
  },
  {
   "cell_type": "code",
   "execution_count": null,
   "metadata": {},
   "outputs": [],
   "source": [
    "conn.close()"
   ]
  },
  {
   "cell_type": "code",
   "execution_count": null,
   "metadata": {},
   "outputs": [],
   "source": []
  }
 ],
 "metadata": {
  "kernelspec": {
   "display_name": "Python 3",
   "language": "python",
   "name": "python3"
  },
  "language_info": {
   "codemirror_mode": {
    "name": "ipython",
    "version": 3
   },
   "file_extension": ".py",
   "mimetype": "text/x-python",
   "name": "python",
   "nbconvert_exporter": "python",
   "pygments_lexer": "ipython3",
   "version": "3.6.12"
  }
 },
 "nbformat": 4,
 "nbformat_minor": 4
}
